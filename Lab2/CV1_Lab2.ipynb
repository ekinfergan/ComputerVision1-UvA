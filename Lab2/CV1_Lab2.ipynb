{
 "cells": [
  {
   "cell_type": "markdown",
   "metadata": {
    "id": "UMW9vG1dBifa"
   },
   "source": [
    "<center><img src=\"http://what-when-how.com/wp-content/uploads/2012/07/tmp26dc139_thumb.png\" width=50% > </center>\n",
    "\n",
    "# <center> Assignment 2: Neighborhood Processing & Filters </center>\n",
    "<center> Computer Vision 1 University of Amsterdam </center>\n",
    "    <center> Due 23:59PM, September 23, 2023 (Amsterdam time) </center>\n",
    "\n",
    "  ***\n",
    "<center>\n",
    "<b>TA's: Jiayi Shen, Valentinos Pariza</b>\n",
    "\n",
    "Student1 ID: \\\n",
    "Student1 Name:\n",
    "\n",
    "Student2 ID: \\\n",
    "Student2 Name:\n",
    "\n",
    "Student3 ID: \\\n",
    "Student3 Name:\n",
    "\n",
    "( Student4 ID: \\\n",
    "Student4 Name: )\n"
   ]
  },
  {
   "cell_type": "markdown",
   "metadata": {
    "id": "HMamtgttKsVe"
   },
   "source": [
    "# General Guidelines"
   ]
  },
  {
   "cell_type": "markdown",
   "metadata": {
    "id": "2cadc1e5"
   },
   "source": [
    "Your code and discussion must be handed in this jupyter notebook, renamed to **StudentID1_StudentID2_StudentID3.ipynb** before the deadline by submitting it to the Canvas Lab 1 Assignment. Please also fill out your names and ID's above.\n",
    "\n",
    "For full credit, make sure your notebook follows these guidelines:\n",
    "- It is mandatory to use the Python environment provided with the assignment; the environment specifies the package versions that have to be used to prevent the use of particular functions. Using different packages versions may lead to grade deduction. In the 'Environment Setup' below you can check whether your environment is set up correctly.\n",
    "- To install the environment with the right package versions, use the following command in your terminal: ```python\n",
    "conda env create --file=CV1_environment.yaml```, then activate the environment using the command ```python conda activate cv1```.\n",
    "- Please express your thoughts concisely. The number of words does not necessarily correlate with how well you understand the concepts.\n",
    "- Answer all given questions and sub-questions.\n",
    "- Try to understand the problem as much as you can. When answering a question, give evidences (qualitative and/or quantitative results, references to papers, figures etc.) to support your arguments. Note that not everything might be explicitly asked for and you are expected to think about what might strengthen you arguments and make the notebook self-contained and complete.\n",
    "- Tables and figures must be accompanied by a brief description. Do not forget to add a number, a title, and if applicable name and unit of variables in a table, name and unit of axes and legends in a figure.\n",
    "\n",
    "__Note:__ A more complete overview of the lab requirements can be found in the Course Manual on Canvas\n",
    "\n",
    "Late submissions are not allowed. Assignments that are submitted after the strict deadline will not be graded. In case of submission conflicts, TAs’ system clock is taken as reference. We strongly recommend submitting well in advance, to avoid last minute system failure issues.\n",
    "Plagiarism note: Keep in mind that plagiarism (submitted materials which are not your work) is a serious crime and any misconduct shall be punished with the university regulations. This includes the use of generative tools such as ChatGPT.\n",
    "\n",
    "**ENSURE THAT YOU SAVE ALL RESULTS / ANSWERS ON THE QUESTIONS (EVEN IF YOU RE-USE SOME CODE).**"
   ]
  },
  {
   "cell_type": "markdown",
   "metadata": {
    "id": "Nyx1iqI741Z1"
   },
   "source": [
    "# O. Environment Setup"
   ]
  },
  {
   "cell_type": "code",
   "execution_count": 1,
   "metadata": {
    "ExecuteTime": {
     "end_time": "2023-04-11T09:25:24.234287Z",
     "start_time": "2023-04-11T09:25:24.222970Z"
    },
    "id": "nBCvx1UiTn_j"
   },
   "outputs": [],
   "source": [
    "import math\n",
    "import numpy as np\n",
    "import time\n",
    "import matplotlib\n",
    "import matplotlib.pyplot as plt\n",
    "import os\n",
    "\n",
    "import cv2\n",
    "import sklearn\n",
    "from sklearn.decomposition import PCA\n",
    "from sklearn.cluster import KMeans\n",
    "import scipy.signal"
   ]
  },
  {
   "cell_type": "code",
   "execution_count": 2,
   "metadata": {
    "ExecuteTime": {
     "end_time": "2023-04-11T09:25:24.287805Z",
     "start_time": "2023-04-11T09:25:24.279727Z"
    },
    "id": "DXbuUaRUud2H"
   },
   "outputs": [],
   "source": [
    "# Make sure you're using the provided environment!\n",
    "assert cv2.__version__ == \"3.4.2\", \"You're not using the provided Python environment!\"\n",
    "assert np.__version__ == \"1.19.5\", \"You're not using the provided Python environment!\"\n",
    "assert matplotlib.__version__ == \"3.3.4\", \"You're not using the provided Python environment!\"\n",
    "assert sklearn.__version__ == \"0.23.0\", \"You're not using the provided Python environment!\"\n",
    "# Proceed to the next cell only if you don't get any error."
   ]
  },
  {
   "cell_type": "markdown",
   "metadata": {
    "id": "OIIOhzlprt6C",
    "jp-MarkdownHeadingCollapsed": true
   },
   "source": [
    "# 1 Introduction"
   ]
  },
  {
   "cell_type": "markdown",
   "metadata": {
    "id": "-NbweJbQCUny"
   },
   "source": [
    "\n",
    "In this assignment, you will get familiar with fundamentals of neighborhood processing for image processing. These techniques allow for low-level image understanding via extraction of structural patterns such as edges and blobs. Similarly, they find an extensive use in image denoising and higher level image reasoning such as shape recognition. Moreover, neighborhood or block processing is one of the key components of *Convolutional Neural Networks*. Therefore, a good understanding of these\n",
    "procedures will be a stepping stone towards understanding more complex machinery used in computer vision and machine learning.\n",
    "\n",
    "In subsequent sections of this assignment, we will first explain neighborhood processing and introduce low-level filters commonly used to analyze images. After that, we will see how these mathematical concepts relate to practice by working through fundamental tasks such as denoising and segmentation. By the end of this assignment, you will have an overall understanding of the following:\n",
    "* Gaussian and Gabor filters\n",
    "* Edge detection and image denoising\n",
    "* Texture-based image segmentation\n",
    "\n"
   ]
  },
  {
   "cell_type": "markdown",
   "metadata": {
    "id": "fk8dblKYr2z4",
    "jp-MarkdownHeadingCollapsed": true
   },
   "source": [
    "# 2 Neighborhood Processing *(4 pts)*"
   ]
  },
  {
   "cell_type": "markdown",
   "metadata": {
    "id": "wI0keTjXDhS0"
   },
   "source": [
    "\n",
    "Neighborhood processing is simply about looking around a point $I(x, y)$ (i.e. pixel) in the image, $I$, and applying a function, $h(k, l)$, which measures certain properties or relationships between the pixels in that localized window. The function, $h(k, l)$, is generally referred to as the neighborhood operator or local operator. One of the most common forms of a neighborhood operator is a linear filter. Linear filters simply compute the weighted sum of neighboring pixel intensities and assign it to the pixel of interest (output $I_{out}(i, j)$). The filters in which we are interested here are usually represented as a square matrix.\n",
    "\n",
    "---\n",
    "**Hint**: Filters, kernels, weight matrices or masks are interchangeably used in the literature. A kernel is a matrix with which we describe a neighborhood operation. This operation can, for example, be edge detection or smoothing.\n",
    "\n",
    "---\n",
    "\n",
    "Linear filters are shifted over the entire image plane via operators such as correlation ($\\otimes$) and convolution ($\\ast$). Both of these operators are *linear shift-invariant* (LSI) implying that the filters behave the same way over the entire image. Discrete forms of these operators are given in the following:\n",
    "\n",
    "\n",
    "Correlation (1):\n",
    "<center>\n",
    "$\\mathbf{I}_{out} = I \\otimes  \\mathbf{h}\\\\\n",
    " \\mathbf{I}_{out}(i,j) = \\sum_{k,l}  \\mathbf{I}(i+k,j+l) \\mathbf{h}(k,l)$\n",
    "</center>\n",
    "Convolution (2):\n",
    "<center>\n",
    "$    \\mathbf{I}_{out} = \\mathbf{I} \\ast  \\mathbf{h}\\\\\n",
    " \\mathbf{I}_{out}(i,j) = \\sum_{k,l} \\mathbf{I}(i-k,j-l) \\mathbf{h}(k,l)$\n",
    " </center>\n",
    "\n",
    "\n",
    "---\n",
    "The following example illustrates the overall idea of neighborhood processing. The kernel or the mask convolves over the input image. In the case of linear filters, this is simply multiplying each pixel intensity with the corresponding weight in the kernel (see the yellowish $7x7$ window where the kernel is placed). In the example, the kernel is $7x7$ averaging mask. You can see its effect by comparing the red (before filtering) and the green (after filtering) frames.\n",
    "\n",
    "\n",
    "\n"
   ]
  },
  {
   "cell_type": "markdown",
   "metadata": {
    "id": "6hQY3W1wLmHv"
   },
   "source": [
    "**Example:**\n",
    "<div>\n",
    "<img src=\"https://drive.google.com/uc?export=view&id=1HXt-WTi2Mg-jHYU4tvcKl4R29gi-g1QY\" width=\"600\"/>\n",
    "</div>"
   ]
  },
  {
   "cell_type": "markdown",
   "metadata": {
    "id": "7mZ_fs1wWRl8"
   },
   "source": [
    "### 2.1  Convolution and correlation operators (2 pts)\n",
    "#### <span style=\"color:orange;\"> Question 1 (2pts)  </span>\n",
    "\n",
    "What is the difference between correlation and convolution operators? How do they treat the signals $\\mathbf{I}$ and $\\mathbf{h}$?"
   ]
  },
  {
   "cell_type": "markdown",
   "metadata": {
    "id": "ylaRzZZNLPpU"
   },
   "source": [
    "Both operations involve sliding a mask h over an image I to perform some kind of operation at each position. The key difference between correlation and convolution operators lies in how they treat the mask. Correlation applies the mask directly without any modification to the image, while in convolution the mask is flipped vertically and horizontally (180-degree rotated) relative to the input. As a result, they produce different output values for the same image and mask. "
   ]
  },
  {
   "cell_type": "markdown",
   "metadata": {
    "id": "ZOzkr4we4pyV"
   },
   "source": [
    "### 2.2 Convolution and correlation operators (2 pts)\n",
    "#### <span style=\"color:orange;\"> Question 2 (2pts)  </span>\n",
    "Correlation and convolution operators are equivalent when we make an assumption on the form of the mask $\\mathbf{h}$. Can you identify the case? Give precise answer here."
   ]
  },
  {
   "cell_type": "markdown",
   "metadata": {
    "id": "hY3VCYMH4pyW"
   },
   "source": [
    "Convolution and correlation give the same response if the mask h is symmetric."
   ]
  },
  {
   "cell_type": "markdown",
   "metadata": {
    "id": "DJlTkHdTOROo",
    "jp-MarkdownHeadingCollapsed": true
   },
   "source": [
    "# 3 Low-level filters *(25 pts)*\n"
   ]
  },
  {
   "cell_type": "markdown",
   "metadata": {
    "id": "6Blbzx35sVsf"
   },
   "source": [
    "In this section, you will design common linear filters used in neighborhood processing. We will focus in particular on Gaussian and Gabor filters."
   ]
  },
  {
   "cell_type": "markdown",
   "metadata": {
    "id": "_NhWPur7P1_Q",
    "jp-MarkdownHeadingCollapsed": true
   },
   "source": [
    "## 3.1 Gaussian Filters *(10 pts)*"
   ]
  },
  {
   "cell_type": "markdown",
   "metadata": {
    "id": "1oBHyce1saAI"
   },
   "source": [
    "### 3.1.1. 1D Gaussian Filter"
   ]
  },
  {
   "cell_type": "markdown",
   "metadata": {
    "id": "NyGUgGekPz-a"
   },
   "source": [
    "\n",
    "\n",
    "The 1D  Gaussian filter is defined as follows:\n",
    "<center>\n",
    "$ G_{\\sigma}(x)=\\frac{1}{\\sigma\\sqrt{2\\pi}}\\text{ exp}(-\\frac{x^2}{2\\sigma^2}),$\n",
    "</center>\n",
    "where $\\sigma$ is the variance of the Gaussian. However, such formulation creates an infinitely large convolution kernel. In practice, the kernel is truncated with a `kernel_size` parameter such that $-\\left\\lfloor \\frac{kernel\\_size}{2}\\right\\rfloor \\leq x \\leq \\left\\lfloor \\frac{kernel\\_size}{2} \\right\\rfloor$, where $\\left\\lfloor . \\right\\rfloor$ is the floor operator. As an example, if `kernel_size` equals 3, $x \\in \\{ -1, 0, 1 \\} $."
   ]
  },
  {
   "cell_type": "markdown",
   "metadata": {
    "id": "yOg4ZLMVZ88D"
   },
   "source": [
    "Now, implement the following *gauss1D* function.\n",
    "\n",
    "**Hint:**\n",
    "Do not forget to normalize your filter.\n",
    "\n",
    "**Note:** You are not allowed to use a Python built-in function provided by *SciPy* or other libraries to compute the kernel."
   ]
  },
  {
   "cell_type": "code",
   "execution_count": null,
   "metadata": {
    "ExecuteTime": {
     "end_time": "2023-04-11T09:25:24.305916Z",
     "start_time": "2023-04-11T09:25:24.295615Z"
    },
    "id": "b4f5nPDqBdf_"
   },
   "outputs": [],
   "source": [
    "def gauss1D(sigma, kernel_size):\n",
    "    '''\n",
    "    Generates the 1D Gaussian kernel with given sigma and kernel size.\n",
    "    :param sigma: variance of the Gaussian function\n",
    "    :param kernel_size: size of the kernel\n",
    "    :return: 1D Gaussian kernel\n",
    "    '''\n",
    "    G = np.zeros((1, kernel_size))\n",
    "    if kernel_size % 2 == 0:\n",
    "        raise ValueError('kernel_size must be odd, otherwise the filter will not have a center to convolve on')\n",
    "\n",
    "    # TODO: YOUR CODE HERE\n",
    "\n",
    "    return G\n",
    "\n",
    "G = gauss1D(2, 5)\n",
    "print(G)"
   ]
  },
  {
   "cell_type": "code",
   "execution_count": null,
   "metadata": {
    "ExecuteTime": {
     "end_time": "2023-04-11T09:50:26.391466Z",
     "start_time": "2023-04-11T09:50:26.148580Z"
    },
    "id": "MUwwgpFaR5XH"
   },
   "outputs": [],
   "source": [
    "# Run this to test your function:\n",
    "assert np.all(np.round(gauss1D(2,5), 4) == [0.1525, 0.2218, 0.2514, 0.2218, 0.1525]) # check if values are close enough if assert gives error"
   ]
  },
  {
   "cell_type": "markdown",
   "metadata": {
    "id": "RkT7BklaTUmj"
   },
   "source": [
    "### 3.1.2. 2D Gaussian Filter\n"
   ]
  },
  {
   "cell_type": "markdown",
   "metadata": {
    "id": "cW9S9S-CspJn"
   },
   "source": [
    "\n",
    "One of the most important properties of 2D Gaussian kernels is separability. Therefore, convolving an image with a 2D Gaussian is equivalent to convolving\n",
    "the image twice with a 1D Gaussian filter, once along the x-axis and once along the y-axis **separately**. A 2D Gaussian kernel can then be defined as a product of two 1D Gaussian kernels:\n",
    "<center>\n",
    "$\n",
    "G_{\\sigma}(x, y) = G_{\\sigma}(x) \\times G_{\\sigma}(y)\\;\\;$ (Eq. A)\n",
    "</center>\n",
    "<center>\n",
    "$\n",
    " = \\frac{1}{\\sigma^2 2\\pi}\\text{ exp}(-\\frac{x^2 + y^2}{2\\sigma^2})\\;\\;\n",
    " $ (Eq. B)\n",
    " </center>"
   ]
  },
  {
   "cell_type": "markdown",
   "metadata": {
    "id": "762bvpRYTual"
   },
   "source": [
    "#### <span style=\"color:#F64E25;\">  Exercise 1 (3pt) </span>\n",
    "\n",
    "Implement `gauss2D` function that corresponds to *Eq. A* (not *Eq. B*) and you should make use of `gauss1D`.\n",
    "\n",
    "**Note:** Again, you are not allowed to use a Python built-in function provided by *SciPy* or other libraries to compute the kernel."
   ]
  },
  {
   "cell_type": "code",
   "execution_count": null,
   "metadata": {
    "ExecuteTime": {
     "end_time": "2023-04-11T09:25:24.331058Z",
     "start_time": "2023-04-11T09:25:24.321269Z"
    },
    "id": "WhfGMWffTtzm"
   },
   "outputs": [],
   "source": [
    "def gauss2D(sigma_x, sigma_y, kernel_size):\n",
    "    '''\n",
    "    Generates the 2D Gaussian kernel with given sigma_x for X dimension and sigma_y for Y dimension and kernel size.\n",
    "    :param sigma_x: variance of the Gaussian function for dimension X\n",
    "    :param sigma_y: variance of the Gaussian function for dimension Y\n",
    "    :param kernel_size: size of the kernel\n",
    "    :return: 2D Gaussian kernel\n",
    "    '''\n",
    "\n",
    "    # TODO: YOUR CODE HERE\n",
    "\n",
    "    return G\n",
    "\n",
    "print(gauss2D(2, 2, 3))"
   ]
  },
  {
   "cell_type": "code",
   "execution_count": null,
   "metadata": {
    "ExecuteTime": {
     "end_time": "2023-04-11T09:25:24.341712Z",
     "start_time": "2023-04-11T09:25:24.335974Z"
    },
    "id": "HgMHxPlgVbgQ"
   },
   "outputs": [],
   "source": [
    "# Run this to test your function:\n",
    "assert np.all( np.round(gauss2D(2, 2, 3) , 4) == [[0.1019, 0.1154, 0.1019],\n",
    "       [0.1154, 0.1308, 0.1154],\n",
    "       [0.1019, 0.1154, 0.1019]])"
   ]
  },
  {
   "cell_type": "markdown",
   "metadata": {
    "id": "-2ZB6tEeV_Ls"
   },
   "source": [
    "Now consider the following two scenarios.\n",
    "1. In first the image is convolved with a 2D Gaussian kernel.\n",
    "2. In second image is convolved a 1D Gaussian kernel in the x- and y-direction.\n"
   ]
  },
  {
   "cell_type": "markdown",
   "metadata": {
    "id": "pwN5FCrq4pyY"
   },
   "source": [
    "#### <span style=\"color:orange;\">  Question 3 (1 pt) </span>\n",
    "Will the result be the same in (1) and (2)? Answer Yes/No. Why?"
   ]
  },
  {
   "cell_type": "markdown",
   "metadata": {
    "id": "wA9o0ZeL4pyZ"
   },
   "source": [
    "\n",
    "*Write your answers here*"
   ]
  },
  {
   "cell_type": "markdown",
   "metadata": {
    "id": "0q2vI0YR4pyZ"
   },
   "source": [
    "#### <span style=\"color:orange;\"> Question 4 (2pts)  </span>\n",
    "What is the computational complexity for both cases? Give an answer in big *O* notation, *n* for width of image, *m* for height of image and *k* for size of kernel."
   ]
  },
  {
   "cell_type": "markdown",
   "metadata": {
    "id": "8gTOdwi4WCyi"
   },
   "source": [
    "\n",
    "*Write your answers here*"
   ]
  },
  {
   "cell_type": "markdown",
   "metadata": {
    "id": "ViVNlHPOa2Jd"
   },
   "source": [
    "### 3.1.3. Gaussian Derivatives\n",
    "So far the Gaussian kernels that we computed are mainly targeted to image enhancement algorithms (e.g. denoising an image). These kernels can also be used for detecting changes in the image intensity pixels. These low-level features can then further be used as building blocks for more complicated tasks like object detection or segmentation.\n",
    "\n",
    "\n",
    "Concretely, the  first order derivative of the 1D Gaussian kernel is given by:\n",
    "\n",
    "<center>\n",
    "$\n",
    "\\frac{d}{dx}G_\\sigma(x)  =\\frac{d}{dx}\\left( \\frac{1}{\\sigma\\sqrt{2\\pi}}\\exp(-\\frac{x^2}{2\\sigma^2}) \\right )\n",
    "$\n",
    "</center>\n",
    "\n",
    "<center>\n",
    "$\n",
    " = -\\frac{x}{\\sigma^3\\sqrt{2\\pi}}\\exp(-\\frac{x^2}{2\\sigma^2}) \\;\\;\n",
    "$ (Eq. C)\n",
    "</center>\n",
    "\n",
    "<center>\n",
    "$\n",
    "= -\\frac{x}{\\sigma^2}G_\\sigma(x)\n",
    "$\n",
    "</center>\n",
    "Similarly, the first order derivative of the 2D Gaussian kernel can be obtained by computing $\\frac{d}{dx}G_\\sigma(x,y)$ and $\\frac{d}{dy}G_\\sigma(x,y)$."
   ]
  },
  {
   "cell_type": "markdown",
   "metadata": {
    "id": "wRsCpZLgY1gw"
   },
   "source": [
    "#### <span style=\"color:orange;\"> Question 5 (1pt) </span>\n",
    "Determine the first order derivative of the 2D Gaussian kernel by computing $\\frac{d}{dx}G_\\sigma(x,y)$ and $\\frac{d}{dy}G_\\sigma(x,y)$. Show your calculations, as done above for $\\frac{d}{dx}G_\\sigma(x)$. Remember that:\n",
    "\n",
    "<center>\n",
    "$\n",
    "G_{\\sigma}(x, y) =\\frac{1}{\\sigma^2 2\\pi}\\text{ exp}(-\\frac{x^2 + y^2}{2\\sigma^2})\n",
    " $\n",
    " </center>"
   ]
  },
  {
   "cell_type": "markdown",
   "metadata": {
    "id": "XeLulppGY1gx"
   },
   "source": [
    "*Write your answer here*"
   ]
  },
  {
   "cell_type": "markdown",
   "metadata": {
    "id": "eMgRkSaSa-7u"
   },
   "source": [
    "#### <span style=\"color:orange;\"> Question 6 (3pts) </span>\n",
    "A second order derivative of the Gaussian kernel can also be computed.\n",
    "Why is it interesting to design a second order kernel? Give one example of where it is more beneficial to use them than first order derivative Gaussian kernel and explain how they can be used."
   ]
  },
  {
   "cell_type": "markdown",
   "metadata": {
    "id": "HtsxpaP8bGqC"
   },
   "source": [
    "*Write your answer here*"
   ]
  },
  {
   "cell_type": "markdown",
   "metadata": {
    "id": "OtMu-uUgbIHi",
    "jp-MarkdownHeadingCollapsed": true
   },
   "source": [
    "## 3.2 Gabor filters *(15 pts)*\n"
   ]
  },
  {
   "cell_type": "markdown",
   "metadata": {
    "id": "G40RQGvgsxAj"
   },
   "source": [
    "Gabor filters fall into the category of linear filters and are widely used for *texture analysis*. The reason why they are a good choice for texture analysis is that they localize well in the frequency spectrum (*optimally* bandlimited) and therefore work as flexible *band-pass* filters.\n",
    "\n",
    "In the following image you can see even (cosine-modulated) and odd parts (sine-modulated) of Gabor filters with fixed-σ Gaussian. You can observe time-domain filters for the modulating sinusoidals of central frequencies, 10, 20, 30, 40 and 50 Hz, respectively.\n"
   ]
  },
  {
   "cell_type": "markdown",
   "metadata": {
    "id": "Qs5KY3RIL23Z"
   },
   "source": [
    "<div>\n",
    "<img src=\"https://drive.google.com/uc?export=view&id=1wv6ZUOfiHMDgg0jW7n5lqkaFiFztjnEo\" width=\"700\"/>\n",
    "</div>"
   ]
  },
  {
   "cell_type": "markdown",
   "metadata": {
    "id": "yPyZ-8JveugN"
   },
   "source": [
    "Gabor filters with varying center frequencies are sensitive to different\n",
    "frequency bands. Notice that the neighboring (in the frequency spectrum) filters minimally interfere with each other."
   ]
  },
  {
   "cell_type": "markdown",
   "metadata": {
    "id": "zLgAHvd3MBxU"
   },
   "source": [
    "\n",
    "<div>\n",
    "<img src=\"https://drive.google.com/uc?export=view&id=1hUQaKE_TwC-9_jMIao1CCxyjembMrUab\" width=\"700\"/>\n",
    "</div>"
   ]
  },
  {
   "cell_type": "markdown",
   "metadata": {
    "id": "H1mP6EytbZE2",
    "jp-MarkdownHeadingCollapsed": true
   },
   "source": [
    "### 3.2.1. 1D Gabor Filters"
   ]
  },
  {
   "cell_type": "markdown",
   "metadata": {
    "id": "f0qj4afHtBkK"
   },
   "source": [
    "For the sake of simplicity, we start by studying what a Gabor function is using 1D signals (e.g. speech). The idea will later be generalized to the 2D case, which is suited for our primary interest, images. A Gabor function is a Gaussian function modulated with a complex sinusoidal carrier signal. Let us denote the Gaussian with $x(t)$ and complex sinusoidal with $m(t)$. Then, a Gabor function $g(t)$ can be formulated by:\n",
    "\n",
    "$\n",
    "g(t) = x(t) m(t)   \n",
    "$ *(Eq. D)*\n",
    "\n",
    "where $x(t) = \\frac{1}{\\sqrt{2\\pi}\\sigma}e^{-\\frac{t^2}{2\\sigma^2}}$ and $m(t)=e^{j 2 \\pi f_c t} = e^{j w_c t}$. $\\sigma$ is the parameter determining the spread of the Gaussian and $w_c$ is the central frequency of the carrier signal.\n",
    "\n",
    "\n",
    "---\n",
    "\n",
    "\n",
    "**Hint:**\n",
    "A complex sinusoidal can be represented as follows using the *Euler's formula*:\n",
    "$e^{jwt} = \\cos(wt) + j\\sin(wt)$\n",
    "\n",
    "\n",
    "---\n",
    "\n",
    "\n",
    "\n",
    "Using Euler's formula, we get the following:\n",
    "\\begin{align}\n",
    "    g(t) &= x(t)m(t) \\\\\n",
    "    g(t) &= \\frac{1}{\\sqrt{2\\pi}\\sigma}e^{-\\frac{t^2}{2\\sigma^2}} e^{j w_c t} \\\\\n",
    "    g(t) &= \\frac{1}{\\sqrt{2\\pi}\\sigma}e^{-\\frac{t^2}{2\\sigma^2}} [\\cos(w_c t) + j\\sin(w_c t)]\n",
    "\\end{align}\n",
    "We can further arrange the terms and arrive at the following form\n",
    "\\begin{align}\n",
    "    g(t) = g_e(t) + jg_o(t)\n",
    "\\end{align}\n",
    "where $g_e(t)$ and $g_o(t)$ are the even and odd parts arranged orthogonally on the complex plane $\\mathbf{Z}^2$. In practice, one can use either the even or the odd part for filtering purposes (or one can use the complex form).  "
   ]
  },
  {
   "cell_type": "markdown",
   "metadata": {
    "id": "a2fL29EAbaYt"
   },
   "source": [
    "### 3.2.2. 2D Gabor Filters"
   ]
  },
  {
   "cell_type": "markdown",
   "metadata": {
    "id": "8Wor-yxqtLnl"
   },
   "source": [
    "\n",
    "The Gabor filters can also be defined in 2D as well. The main difference lies in the dimensionality of the signals (i.e. carrier and gaussian). A sine wave in 2D is described by two orthogonal spatial frequencies $u_0$ and $v_0$ such that it is given as $s(x,y) = sin(2\\pi(u_0 x + v_0 y))$ where a 2D gaussian is simply $C e^{-(\\frac{(x-x_0)^2}{2\\sigma_x^2}) + \\frac{(y-y_0)^2}{2\\sigma_y^2})}$ with $C$ being a normalizing constant. 2D Gabor function then takes the following forms in the real and complex parts:\n",
    "\n",
    "\\begin{align}\n",
    "    g_{real}(x,y; \\lambda, \\theta, \\psi, \\sigma, \\gamma) = \\exp\\left(-\\frac{x^{\\prime2}+\\gamma^2 y^{\\prime2}}{2\\sigma^2}\\right)\n",
    "\\cos\\left( 2\\pi \\frac{x^{\\prime}}{\\lambda} + \\psi  \\right),                                              \n",
    "\\end{align}\n",
    "\\begin{align}\n",
    "g_{im}(x,y; \\lambda, \\theta, \\psi, \\sigma, \\gamma) &= \\exp\\left(-\\frac{x^{\\prime2}+\\gamma^2 y^{\\prime2}}{2\\sigma^2}\\right)\n",
    "\\sin\\left( 2\\pi \\frac{x^{\\prime}}{\\lambda} + \\psi  \\right),\n",
    "\\end{align}\n",
    "\n",
    "where\n",
    "\\begin{align}\n",
    "    x^\\prime &= x\\cos\\theta + y\\sin\\theta, \\\\\n",
    "    y^\\prime &= -x\\sin\\theta + y\\cos\\theta.\n",
    "\\end{align}\n",
    "\n",
    "$\\lambda, \\theta, \\psi, \\sigma, \\gamma$ are parameters to control the shape and size of the Gabor functionin. We set their values to create different Gabor kernels."
   ]
  },
  {
   "cell_type": "markdown",
   "metadata": {
    "id": "WIpIVPE4tvE9",
    "jp-MarkdownHeadingCollapsed": true
   },
   "source": [
    "#### <span style=\"color:#F64E25;\"> Exercise 2 (10pts) </span>"
   ]
  },
  {
   "cell_type": "markdown",
   "metadata": {
    "id": "_QVZG7MciTJn"
   },
   "source": [
    "##### Design array of Gabor Filters\n",
    "\n",
    "In section 4 of this notebook, you will create a Gabor Filterbank. A filterbank is a collection of filters with varying properties (e.g. {shape, texture}). A Gabor filterbank consists of Gabor filters of distinct orientations and scales. We will use this bank to extract texture information from the input image."
   ]
  },
  {
   "cell_type": "markdown",
   "metadata": {
    "id": "xTqtQqRqvm6E"
   },
   "source": [
    "Now, your task is to implement function `createGabor()` but to do that you will need some helper functions, which are defined below. Finish the implementation of those and then use them in `createGabor()`.\n",
    "\n",
    "\n",
    "\n"
   ]
  },
  {
   "cell_type": "code",
   "execution_count": null,
   "metadata": {
    "ExecuteTime": {
     "end_time": "2023-04-11T09:26:34.863670Z",
     "start_time": "2023-04-11T09:26:34.841102Z"
    },
    "id": "jeM6YS5blFZ-"
   },
   "outputs": [],
   "source": [
    "def generateRotationMatrix(theta):\n",
    "    '''\n",
    "    Returns the rotation matrix for a given theta.\n",
    "    Hint: https://en.wikipedia.org/wiki/Rotation_matrix\n",
    "    :param theta: rotation parameter in radians\n",
    "    :return: rotation matrix\n",
    "    '''\n",
    "\n",
    "    # TODO: YOUR CODE HERE\n",
    "    # Code the rotation matrix which fits gabor equation given theta.\n",
    "\n",
    "    return rotMat\n"
   ]
  },
  {
   "cell_type": "code",
   "execution_count": null,
   "metadata": {
    "ExecuteTime": {
     "end_time": "2023-04-11T09:26:35.991305Z",
     "start_time": "2023-04-11T09:26:35.977839Z"
    },
    "id": "zCXnvzLav1Xg"
   },
   "outputs": [],
   "source": [
    "def createCos(rot_x, lamda, psi):\n",
    "    '''\n",
    "    Returns the 2D cosine carrier.\n",
    "    '''\n",
    "\n",
    "    # TODO: YOUR CODE HERE\n",
    "    # Implement the cosine given rot_x, lamda and psi.\n",
    "\n",
    "    return cosCarrier"
   ]
  },
  {
   "cell_type": "code",
   "execution_count": null,
   "metadata": {
    "ExecuteTime": {
     "end_time": "2023-04-11T09:26:36.793366Z",
     "start_time": "2023-04-11T09:26:36.774374Z"
    },
    "id": "xGPBzDW_v1c8"
   },
   "outputs": [],
   "source": [
    "def createSin(rot_x, lamda, psi):\n",
    "    '''\n",
    "    Returns the 2D sine carrier.\n",
    "    '''\n",
    "\n",
    "    # TODO: YOUR CODE HERE\n",
    "    # Implement the sine given rot_x, lamda and psi.\n",
    "\n",
    "    return sinCarrier"
   ]
  },
  {
   "cell_type": "code",
   "execution_count": null,
   "metadata": {
    "ExecuteTime": {
     "end_time": "2023-04-11T09:26:37.979275Z",
     "start_time": "2023-04-11T09:26:37.962840Z"
    },
    "id": "pZYsGehtwBUf"
   },
   "outputs": [],
   "source": [
    "def createGauss(rot_x, rot_y, gamma, sigma):\n",
    "    '''\n",
    "    Returns the 2D Gaussian Envelope.\n",
    "    Hint: ensure that gaussEnv has same dimensions as sinCarrier and cosCarrier by reshaping it in same manner\n",
    "    '''\n",
    "\n",
    "    # TODO: YOUR CODE HERE\n",
    "    # Implement the Gaussian envelope.\n",
    "\n",
    "    return gaussEnv"
   ]
  },
  {
   "cell_type": "markdown",
   "metadata": {
    "id": "iCwJtg9fbgUz"
   },
   "source": [
    "Implement the function `createGabor` using above helper functions and equations for $g_{real} $ and $g_{im}$.\n"
   ]
  },
  {
   "cell_type": "code",
   "execution_count": null,
   "metadata": {
    "id": "QiAhYzFwY1g2"
   },
   "outputs": [],
   "source": [
    "def createGabor(sigma, theta, lamda, psi, gamma):\n",
    "    '''\n",
    "    Creates a complex valued Gabor filter. Use it like this:\n",
    "    myGabor = createGabor(sigma, theta, lamda, psi, gamma) generates Gabor kernels.\n",
    "\n",
    "    :param sigma: Standard deviation of Gaussian envelope.\n",
    "    :param theta: Orientation of the Gaussian envelope. Takes arguments in the range [0, pi/2).\n",
    "    :param lamda: The wavelength for the carriers. The central frequency (w_c) of the carrier signals.\n",
    "    :param psi: Phase offset for the carrier signal, sin(w_c . t + psi).\n",
    "    :param gamma: Controls the aspect ratio of the Gaussian envelope\n",
    "    :return: myGabor - A matrix of size [h,w,2], holding the real and imaginary\n",
    "                        parts of the Gabor in myGabor(:,:,1) and myGabor(:,:,2), respectively.\n",
    "    '''\n",
    "\n",
    "    # Set the aspect ratio.\n",
    "    sigma_x = sigma\n",
    "    sigma_y = float(sigma)/gamma\n",
    "\n",
    "    # Generate a grid\n",
    "    nstds = 3\n",
    "    xmax = max(abs(nstds*sigma_x*np.cos(theta)),abs(nstds*sigma_y*np.sin(theta)))\n",
    "    xmax = np.ceil(max(1,xmax))\n",
    "    ymax = max(abs(nstds*sigma_x*np.sin(theta)),abs(nstds*sigma_y*np.cos(theta)))\n",
    "    ymax = np.ceil(max(1,ymax))\n",
    "\n",
    "    # Make sure that we get square filters.\n",
    "    xmax = max(xmax,ymax)\n",
    "    ymax = max(xmax,ymax)\n",
    "    xmin = -xmax\n",
    "    ymin = -ymax\n",
    "\n",
    "    # Generate a coordinate system in the range [xmin,xmax] and [ymin, ymax].\n",
    "    [x,y] = np.meshgrid(np.arange(xmin, xmax+1), np.arange(ymin, ymax+1))\n",
    "\n",
    "    # Convert to a 2-by-N matrix where N is the number of pixels in the kernel.\n",
    "    XY = np.concatenate((x.reshape(1, -1), y.reshape(1, -1)), axis=0)\n",
    "\n",
    "    # Compute the rotation of pixels by theta.\n",
    "    # Hint: Create appropriate rotation matrix to compute the rotated pixel coordinates: rot(theta) * XY.\n",
    "    rotMat = generateRotationMatrix(theta)\n",
    "    rot_XY = np.matmul(rotMat, XY)\n",
    "    rot_x = rot_XY[0,:]\n",
    "    rot_y = rot_XY[1,:]\n",
    "\n",
    "\n",
    "    # Create the Gaussian envelope.\n",
    "    # IMPLEMENT the helper function createGauss above.\n",
    "    gaussianEnv = createGauss(rot_x, rot_y, gamma, sigma)\n",
    "\n",
    "    # Create the orthogonal carrier signals.\n",
    "    # IMPLEMENT the helper functions createCos and createSin above.\n",
    "    cosCarrier = createCos(rot_x, lamda, psi)\n",
    "    sinCarrier = createSin(rot_x, lamda, psi)\n",
    "\n",
    "    # Modulate (multiply) Gaussian envelope with the carriers to compute\n",
    "    # the real and imaginary components of the complex Gabor filter.\n",
    "    myGabor_real = ...  # TODO: modulate gaussianEnv with cosCarrier\n",
    "    myGabor_imaginary = ...  # TODO: modulate gaussianEnv with sinCarrier\n",
    "\n",
    "    # Pack myGabor_real and myGabor_imaginary into myGabor.\n",
    "    h, w = myGabor_real.shape\n",
    "    myGabor = np.zeros((h, w, 2))\n",
    "    myGabor[:,:,0] = myGabor_real\n",
    "    myGabor[:,:,1] = myGabor_imaginary\n",
    "\n",
    "    # Uncomment below to see how are the gabor filters\n",
    "    # fig = plt.figure()\n",
    "    # ax = fig.add_subplot(1, 2, 1)\n",
    "    # ax.imshow(myGabor_real)    # Real\n",
    "    # ax.axis(\"off\")\n",
    "    # ax = fig.add_subplot(1, 2, 2)\n",
    "    # ax.imshow(myGabor_imaginary)    # Real\n",
    "    # ax.axis(\"off\")\n",
    "\n",
    "    return myGabor\n",
    "\n",
    "sigma = 2\n",
    "theta = 0\n",
    "lamda = 1000\n",
    "psi = 0\n",
    "gamma = 1\n",
    "myGabor = createGabor(sigma, theta, lamda, psi, gamma)"
   ]
  },
  {
   "cell_type": "markdown",
   "metadata": {
    "id": "bU2nw42jY1g4"
   },
   "source": [
    "Visualize how the parameters $\\theta$, $\\sigma$ and $\\gamma$ affect the filter in spatial domain. In this task you should also make sure that it is clear to the reader of what each image represents, so making an actual visualisation is the task of this exercise.\n",
    "\n",
    "**Hints**:\n",
    "1. The initialization of these parameter are provided: $\\lambda=30, \\theta=0, \\psi=0, \\sigma=10, \\gamma=0.25$.\n",
    "2. Set $\\theta$ as $ 0, \\pi/4,$ or $\\pi/2$, and keep other parameters unchanged.\n",
    "3. Set $\\sigma$ as $0.25, 0.50,$ or $0.75$, and keep other parameters unchanged.\n",
    "4. Set $\\gamma$ as $10, 30,$ or $45$, and keep other parameters unchanged."
   ]
  },
  {
   "cell_type": "code",
   "execution_count": null,
   "metadata": {
    "ExecuteTime": {
     "end_time": "2023-04-13T18:32:20.458739Z",
     "start_time": "2023-04-13T18:32:20.447160Z"
    },
    "id": "g067RSpuY1g4"
   },
   "outputs": [],
   "source": [
    "# HELPER FUNCTIONS (if needed)"
   ]
  },
  {
   "cell_type": "code",
   "execution_count": null,
   "metadata": {
    "ExecuteTime": {
     "end_time": "2023-04-11T09:26:45.367624Z",
     "start_time": "2023-04-11T09:26:45.357160Z"
    },
    "id": "Iv13duslkHKe"
   },
   "outputs": [],
   "source": [
    "# YOUR CODE HERE FOR THETA"
   ]
  },
  {
   "cell_type": "code",
   "execution_count": null,
   "metadata": {
    "ExecuteTime": {
     "end_time": "2023-04-11T09:26:46.273906Z",
     "start_time": "2023-04-11T09:26:46.258885Z"
    },
    "id": "tw9YC14y4pyc"
   },
   "outputs": [],
   "source": [
    "# YOUR CODE HERE FOR SIGMA"
   ]
  },
  {
   "cell_type": "code",
   "execution_count": null,
   "metadata": {
    "ExecuteTime": {
     "end_time": "2023-04-11T09:26:46.898913Z",
     "start_time": "2023-04-11T09:26:46.841917Z"
    },
    "id": "fr6jCqZl4pyc"
   },
   "outputs": [],
   "source": [
    "# YOUR CODE HERE FOR GAMMA"
   ]
  },
  {
   "cell_type": "markdown",
   "metadata": {
    "id": "32eQTHQobdGG"
   },
   "source": [
    "#### <span style=\"color:orange;\"> Question 7 (5pts) </span>\n",
    "Based on the visualizations of parameters and your self-study on the Gabor filters, explain shortly (1) what the parameters $\\lambda, \\theta, \\psi, \\sigma, \\gamma$ control and (2) how do they influence the Gabor filter kernel visualy."
   ]
  },
  {
   "cell_type": "markdown",
   "metadata": {
    "id": "UfCvFPCltWXs"
   },
   "source": [
    "*Write your answer here*"
   ]
  },
  {
   "cell_type": "markdown",
   "metadata": {
    "id": "E41QZ9ZsO6vf"
   },
   "source": [
    "# 4 Applications in image processing *(71 pts)*"
   ]
  },
  {
   "cell_type": "markdown",
   "metadata": {
    "id": "xXyH4WNDJtSK",
    "jp-MarkdownHeadingCollapsed": true
   },
   "source": [
    "## 4.1 Noise in digital images"
   ]
  },
  {
   "cell_type": "markdown",
   "metadata": {
    "id": "m0vlajJhKojZ"
   },
   "source": [
    "The quality of digital images can be affected in different ways. For example, the\n",
    "acquisition process can be very noisy and with a low-resolution (e.g. some medical\n",
    "imaging modalities only generate a 128x128 image). Noise can also come from the\n",
    "user who set wrong parameters on the digital camera. Consequently, different computer vision algorithms are required to enhance noisy or corrupted images. With the\n",
    "growing amount of photos taken every day, image enhancement has then become a\n",
    "very active area of research.\n",
    "\n",
    "In this section, we only focus on simple algorithms to correct noise coming typically from the sensor of your camera. Many other types of noise or corruption can happen but are out of the scope of this assignment."
   ]
  },
  {
   "cell_type": "markdown",
   "metadata": {
    "id": "1gZn2TPQKtA8"
   },
   "source": [
    "### 4.1.1. Salt-and-pepper noise"
   ]
  },
  {
   "cell_type": "markdown",
   "metadata": {
    "id": "b_vRqsMUK3XV"
   },
   "source": [
    "Noise can also occur with over-exposition causing a ”hot” pixel or with a defective\n",
    "sensor causing a ”dead” pixel. This is called salt-and-pepper noise. Pixels in the\n",
    "image are randomly replaced by either a white or black pixel."
   ]
  },
  {
   "cell_type": "markdown",
   "metadata": {
    "id": "CcgoNmEWK7Zk"
   },
   "source": [
    "### 4.1.2 Additive Gaussian noise"
   ]
  },
  {
   "cell_type": "markdown",
   "metadata": {
    "id": "9sQFRLM8LA2e"
   },
   "source": [
    "Noise also occurs frequently when the camera heats up. This is called thermal noise\n",
    "and this can be modeled as an additive Gaussian noise. Every pixel in the image\n",
    "has a noise component that corresponds to a random value chosen independently\n",
    "from the same Gaussian probability distribution. The Gaussian distribution has a\n",
    "mean of 0 and its standard deviation corresponds to a parameter.\n",
    "\n",
    "\\begin{equation}\n",
    "\\begin{array}{rl}\n",
    "\\mathbf{I}^{\\prime}(x) = \\mathbf{I}(x) + \\epsilon \\text{, where } \\epsilon \\sim  \\mathcal{N}(0, \\sigma^2)\n",
    "\\end{array}\n",
    "\\end{equation}\n",
    "\n",
    "where $\\mathbf{I}^{\\prime}$ is the noisy image and $\\mathbf{I}$ is the original image without any noise $\\epsilon$."
   ]
  },
  {
   "cell_type": "markdown",
   "metadata": {
    "id": "a8rYWOruVbNB"
   },
   "source": [
    "## 4.2 Image denoising (26 pts)"
   ]
  },
  {
   "cell_type": "markdown",
   "metadata": {
    "id": "g4WNOpLWVlnA"
   },
   "source": [
    "### 4.2.1 Quantitative evaluation *(9 pts)*"
   ]
  },
  {
   "cell_type": "markdown",
   "metadata": {
    "id": "RI5c7v3zVsbD"
   },
   "source": [
    "The peak signal-to-noise ratio (PSNR) is a commonly used metric to quantitatively evaluate the performance of image enhancement algorithms. It is derived from the mean squared error (MSE):\n",
    "\n",
    "\\begin{equation}\n",
    "\\begin{array}{rl}\n",
    "MSE = \\frac{1}{m \\cdot n}\\sum\\limits_{x,y}\\Big[\\mathbf{I}(x,y) - \\mathbf{\\hat{I}}(x,y)\\Big]^2\n",
    "\\end{array}\n",
    "\\end{equation}\n",
    "where $\\mathbf{I}$ is the original image of size $m\\times n$ and $\\mathbf{\\hat{I}}$ its approximation (i.e. in our case an enhanced corrupted image). The PSNR corresponds to:\n",
    "\n",
    "\\begin{equation}\n",
    "\\begin{split}\n",
    "PSNR & = 10 \\cdot \\log_{10} \\Big(\\frac{\\mathbf{I}_{max}^2}{MSE}\\Big) \\\\\n",
    " & = 20 \\cdot \\log_{10} \\Big(\\frac{\\mathbf{I}_{max}}{\\sqrt{MSE}}\\Big) \\\\\n",
    " & = 20 \\cdot \\log_{10} \\Big(\\frac{\\mathbf{I}_{max}}{RMSE}\\Big)\n",
    "\\end{split}\n",
    "\\end{equation}\n",
    "where $\\mathbf{I}_{max}$ is the maximum pixel value of $\\mathbf{I}$ and RMSE is the root of the MSE.\n",
    "\n",
    "Note: $\\mathbf{I}_{max}$ is the maximum possible pixel value, so in case of uint8: $\\mathbf{I}_{max}=255$\n",
    "\n"
   ]
  },
  {
   "cell_type": "markdown",
   "metadata": {
    "id": "a6fuj5vMWw33",
    "jp-MarkdownHeadingCollapsed": true
   },
   "source": [
    "#### <span style=\"color:orange;\"> Question 8 (1 pt) </span>\n",
    "When comparing different methods with the PSNR metric, is a higher value the better or the opposite? Explain your answer shortly."
   ]
  },
  {
   "cell_type": "markdown",
   "metadata": {
    "id": "wPB_GO6QbMzH"
   },
   "source": [
    "*Write your answer here*"
   ]
  },
  {
   "cell_type": "markdown",
   "metadata": {
    "id": "0YIwJ8fSYgBu",
    "jp-MarkdownHeadingCollapsed": true
   },
   "source": [
    "#### <span style=\"color:#F64E25;\">Exercise 3 </span>"
   ]
  },
  {
   "cell_type": "markdown",
   "metadata": {
    "id": "Vw8ev7NXYpKj"
   },
   "source": [
    "Implement `myPSNR`.\n",
    "\n",
    "**Note 1:** Define this function so that it works for grayscale *and* RGB images. However, note that the formula differs for the RGB representation, so think carefully of which part(s) of the formula need to be changed.\n",
    "\n",
    "\n",
    "**Note 2:** You are not allowed to use the Python built-in functions provided in *PIL* and *Skimage*."
   ]
  },
  {
   "cell_type": "code",
   "execution_count": null,
   "metadata": {
    "ExecuteTime": {
     "end_time": "2023-04-12T09:29:14.817454Z",
     "start_time": "2023-04-12T09:29:14.812767Z"
    },
    "id": "AzrSRfzrZVhd"
   },
   "outputs": [],
   "source": [
    "def myPSNR(orig_image, approx_image):\n",
    "    '''\n",
    "    Should return the PSNR value for 2 input images.\n",
    "    Note: this can be used for both RGB *and* Black and White images.\n",
    "    However, depending on the case your formula would differ a bit.\n",
    "    '''\n",
    "\n",
    "    # TODO: YOUR CODE HERE\n",
    "\n",
    "    return PSNR"
   ]
  },
  {
   "cell_type": "markdown",
   "metadata": {
    "id": "hO26559KbNN-"
   },
   "source": [
    "#### <span style=\"color:#F64E25;\">Exercise 4 </span>\n",
    "Using your implemented function **myPSNR**, compute the PSNR between image1_saltpepper.jpg and image1.jpg.\n",
    "\n",
    "  **Hint:**\n",
    "Make sure that dtype of image is float32."
   ]
  },
  {
   "cell_type": "code",
   "execution_count": null,
   "metadata": {
    "ExecuteTime": {
     "end_time": "2023-04-12T09:29:33.544061Z",
     "start_time": "2023-04-12T09:29:33.534922Z"
    },
    "id": "5rUxvvozbQSf"
   },
   "outputs": [],
   "source": [
    "# TODO: YOUR CODE HERE"
   ]
  },
  {
   "cell_type": "markdown",
   "metadata": {
    "id": "NYSz3kKZ4pyf"
   },
   "source": [
    " #### <span style=\"color:orange;\"> Question 9 (4 pts) </span>\n",
    " What PSNR value did you get?"
   ]
  },
  {
   "cell_type": "markdown",
   "metadata": {
    "id": "bEDHiN4f4pyf"
   },
   "source": [
    "*Write your answer here (just your result)*"
   ]
  },
  {
   "cell_type": "markdown",
   "metadata": {
    "id": "4YS86lVJbNQh"
   },
   "source": [
    "#### <span style=\"color:#F64E25;\"> Exercise 5 </span>\n",
    "Using your implemented function **myPSNR**, compute the PSNR between image1_gaussian.jpg and image1.jpg."
   ]
  },
  {
   "cell_type": "code",
   "execution_count": null,
   "metadata": {
    "ExecuteTime": {
     "end_time": "2023-04-12T09:29:40.492265Z",
     "start_time": "2023-04-12T09:29:40.489164Z"
    },
    "id": "eud_H1Mt4pyg"
   },
   "outputs": [],
   "source": [
    "# TODO: YOUR CODE HERE"
   ]
  },
  {
   "cell_type": "markdown",
   "metadata": {
    "id": "yAX3DqG14pyg"
   },
   "source": [
    "#### <span style=\"color:orange;\"> Question 10 (4 pts) </span>\n",
    "What PSNR value did you get?"
   ]
  },
  {
   "cell_type": "markdown",
   "metadata": {
    "id": "rIMB6x5-Ydbo"
   },
   "source": [
    "*Write your answer here (just your result)*"
   ]
  },
  {
   "cell_type": "markdown",
   "metadata": {
    "id": "7-pj7HA9aqAq",
    "jp-MarkdownHeadingCollapsed": true
   },
   "source": [
    "### 4.2.2 Neighborhood processing for image denoising *(17 pts)*"
   ]
  },
  {
   "cell_type": "markdown",
   "metadata": {
    "id": "1lpNUDhxayLY"
   },
   "source": [
    "We will now design filters to remove these two types of noise. The function will denoise the image by either applying:\n",
    "\n",
    "1. *box filtering*: You can use **cv2.blur** function.\n",
    "2. *median filtering*: You can use **cv2.medianBlur** function.\n",
    "3. *Gaussian filtering*: You must use your **cv2.GaussianBlur** function."
   ]
  },
  {
   "cell_type": "markdown",
   "metadata": {
    "id": "z_OMxltHbh2j"
   },
   "source": [
    "#### <span style=\"color:#F64E25;\">Exercise 6 </span>"
   ]
  },
  {
   "cell_type": "markdown",
   "metadata": {
    "id": "rhSp8tBubucj"
   },
   "source": [
    "Implement `denoise`\n",
    "\n",
    "**Hints:**\n",
    "1. **kernel_type** is just a string to specify the kernel type.\n",
    "2. ****kwargs** allows to have an undefined key-value pairs in a Python function. For example, you can have **sigma** and  **kernel_size** as argument when using a Gaussian kernel but only **kernel_size** when using a box kernel. For more information about how ****kwargs** works, take a look at [usage of kwargs](https://book.pythontips.com/en/latest/args_and_kwargs.html#usage-of-kwargs)."
   ]
  },
  {
   "cell_type": "code",
   "execution_count": null,
   "metadata": {
    "ExecuteTime": {
     "end_time": "2023-04-11T09:26:55.851607Z",
     "start_time": "2023-04-11T09:26:55.844071Z"
    },
    "id": "ASH65zVMdCsq"
   },
   "outputs": [],
   "source": [
    "def denoise(image, kernel_type, **kwargs):\n",
    "    '''\n",
    "    Function denoises the image with the kernel_type method:\n",
    "    - 'box': by using box filter\n",
    "    - 'median': by using median filter\n",
    "    - 'gaussian': by using gaussian filter\n",
    "    :return: imOut - denoised image\n",
    "    '''\n",
    "    if kernel_type == 'box':\n",
    "        # TODO: YOUR CODE HERE\n",
    "        raise NotImplementedError()\n",
    "\n",
    "    elif kernel_type == 'median':\n",
    "        # TODO: YOUR CODE HERE\n",
    "        raise NotImplementedError()\n",
    "\n",
    "    elif kernel_type == 'gaussian':\n",
    "        # TODO: YOUR CODE HERE\n",
    "        raise NotImplementedError()\n",
    "\n",
    "    else:\n",
    "        print('Operation Not implemented')\n",
    "\n",
    "    return imOut"
   ]
  },
  {
   "cell_type": "markdown",
   "metadata": {
    "id": "isKllbE-d1id"
   },
   "source": [
    "#### <span style=\"color:orange;\"> Question 11 (6 pts) </span>\n",
    "Using your implemented function **denoise**, try denoising image1_saltpepper.jpg and image1_gaussian.jpg by applying the following filters:\n",
    "\n",
    "**(a)** Box filtering with size: 3x3, 5x5, and 7x7.\n",
    "\n",
    "**(b)** Median filtering with size: 3x3, 5x5 and 7x7.\n",
    "\n",
    "Show the denoised images in the cell below.\n"
   ]
  },
  {
   "cell_type": "code",
   "execution_count": null,
   "metadata": {
    "ExecuteTime": {
     "end_time": "2023-04-12T09:32:37.139683Z",
     "start_time": "2023-04-12T09:32:37.134845Z"
    },
    "id": "hZpJatSF4pyh"
   },
   "outputs": [],
   "source": [
    "# TODO: YOUR CODE HERE"
   ]
  },
  {
   "cell_type": "markdown",
   "metadata": {
    "id": "Ih0Xb1WZcaAs"
   },
   "source": [
    "#### <span style=\"color:orange;\"> Question 12 (3 pts) </span>\n",
    "Using your implemented function **myPSNR**, compute the PSNR for every denoised image (12 in total) wrt the original image. What is the effect of the filter size on the PSNR? When you present results in the next cell make sure it's readible."
   ]
  },
  {
   "cell_type": "code",
   "execution_count": null,
   "metadata": {
    "ExecuteTime": {
     "end_time": "2023-04-11T09:27:45.369058Z",
     "start_time": "2023-04-11T09:27:45.338296Z"
    },
    "id": "CrYUJlsv4pyh"
   },
   "outputs": [],
   "source": [
    "# TODO: YOUR CODE HERE"
   ]
  },
  {
   "cell_type": "markdown",
   "metadata": {
    "id": "kXmdRw3Tcjct"
   },
   "source": [
    "*Write your answer here*"
   ]
  },
  {
   "cell_type": "markdown",
   "metadata": {
    "id": "UF2XuuyKcbcB"
   },
   "source": [
    "#### <span style=\"color:orange;\"> Question 13 (2 pts) </span>\n",
    "Which is better for the salt-and-pepper noise, box or median filters? Why? What about the Gaussian noise?\n"
   ]
  },
  {
   "cell_type": "markdown",
   "metadata": {
    "id": "DjeTDaI_ckYH"
   },
   "source": [
    "*Write your answer here*"
   ]
  },
  {
   "cell_type": "markdown",
   "metadata": {
    "id": "KoMfg5eccdAX"
   },
   "source": [
    "#### <span style=\"color:orange;\"> Question 14 (2 pts) </span>\n",
    "Try denoising image1_gaussian.jpg using a Gaussian filtering. Choose an appropriate window size ([3x3, 5x5, 7x7]) and standard deviation ([0.2, 0.5, 1, 3, 5, 7])and justify your choice. Show the denoised images in the cell below.\n"
   ]
  },
  {
   "cell_type": "code",
   "execution_count": null,
   "metadata": {
    "ExecuteTime": {
     "end_time": "2023-04-11T09:27:46.138417Z",
     "start_time": "2023-04-11T09:27:46.134570Z"
    },
    "id": "nDBx63hj4pyi"
   },
   "outputs": [],
   "source": [
    "# TODO: YOUR CODE HERE"
   ]
  },
  {
   "cell_type": "markdown",
   "metadata": {
    "id": "ZBF3hOk-pnAA"
   },
   "source": [
    "*Write your answer here*"
   ]
  },
  {
   "cell_type": "markdown",
   "metadata": {
    "id": "HbhpdDM9ceii"
   },
   "source": [
    "#### <span style=\"color:orange;\"> Question 15 (2 pts) </span>\n",
    "What is the effect of the standard deviation on the PSNR?\n"
   ]
  },
  {
   "cell_type": "code",
   "execution_count": null,
   "metadata": {
    "ExecuteTime": {
     "end_time": "2023-04-14T08:46:38.645684Z",
     "start_time": "2023-04-14T08:46:38.632887Z"
    },
    "id": "E9qKFhkU4pyj"
   },
   "outputs": [],
   "source": [
    "# TODO: YOUR CODE HERE"
   ]
  },
  {
   "cell_type": "markdown",
   "metadata": {
    "id": "IDaSrQvXclwD"
   },
   "source": [
    "*Write your answer here*"
   ]
  },
  {
   "cell_type": "markdown",
   "metadata": {
    "id": "_7ZZvTGxcfp5"
   },
   "source": [
    "#### <span style=\"color:orange;\"> Question 16 (2 pts) </span>\n",
    "What is the difference among median filtering, box filtering and Gaussian filtering? Briefly explain how they are different at a conceptual level. If two filtering methods give a PSNR in the same ballpark, can you see a qualitative difference?"
   ]
  },
  {
   "cell_type": "markdown",
   "metadata": {
    "id": "e9xrXuV7cmS1"
   },
   "source": [
    "*Write your answer here*"
   ]
  },
  {
   "cell_type": "markdown",
   "metadata": {
    "id": "ELQH1DgffAfX",
    "jp-MarkdownHeadingCollapsed": true
   },
   "source": [
    "## 4.3 Edge detection *(20 pts)*"
   ]
  },
  {
   "cell_type": "markdown",
   "metadata": {
    "id": "vtpvRJaQfHN6"
   },
   "source": [
    "Edges appear when there is a sharp change in brightness. In an image this usually corresponds to the boundaries of an object. Edge detection is a fundamental task used in many computer vision applications. One of them is road detection in autonomous driving, which is used for determining the vehicle trajectory.\n",
    "\n",
    "Many different techniques exist for computing the edges. In this section, we will focus on filters that extract the gradient of the image. We will try to detect the road in an still image."
   ]
  },
  {
   "cell_type": "markdown",
   "metadata": {
    "id": "jpC_NGfufN3R",
    "jp-MarkdownHeadingCollapsed": true
   },
   "source": [
    "### 4.3.1 First-order derivative filters *(10 pts)*\n"
   ]
  },
  {
   "cell_type": "markdown",
   "metadata": {
    "id": "8umfWKDIfZD3"
   },
   "source": [
    "**Sobel** kernels approximate the first derivative of a Gaussian filter. Below are the Sobel kernels used in the $x$ and $y$ directions.\n",
    "\n",
    "\\begin{equation}\n",
    "\\begin{array}{rl}\n",
    "G_x = \\begin{bmatrix} +1 & 0 & -1 \\\\ +2 & 0 & -2 \\\\ +1 & 0 & -1 \\end{bmatrix} * \\mathbf{I}\n",
    "\\end{array}\n",
    "\\end{equation}\n",
    "\n",
    "\\begin{equation}\n",
    "\\begin{array}{rl}\n",
    "G_y = \\begin{bmatrix} +1 & +2 & +1 \\\\ 0 & 0 & 0 \\\\ -1 & -2 & -1 \\end{bmatrix} * \\mathbf{I}\n",
    "\\end{array}\n",
    "\\end{equation}\n",
    "The gradient magnitude is defined as the square root of the sum of the squares of the horizontal ($G_x$) and the vertical ($G_y$) components of the gradient of an image, such that:\n",
    "\\begin{equation}\n",
    "G =\\sqrt {{G_x}^2+{G_y}^2}\n",
    "\\end{equation}\n",
    "The gradient direction is calculated as follows:\n",
    "\\begin{equation}\n",
    "\\theta= \\tan ^{ - 1}{\\frac{G_y}{G_x}}\n",
    "\\end{equation}\n"
   ]
  },
  {
   "cell_type": "markdown",
   "metadata": {
    "id": "yq-ynXBQgkQ3"
   },
   "source": [
    "#### <span style=\"color:#F64E25;\"> Exercise 7 </span>"
   ]
  },
  {
   "cell_type": "markdown",
   "metadata": {
    "id": "Fx_8_LPDgoeG"
   },
   "source": [
    "Implement `compute_gradient`\n",
    "\n",
    "**Note:**\n",
    "You are not allowed to use the Python built-in functions for computing gradient. But for doing 2D convolution, you can benefit from `scipy.signal.convolve2d` function."
   ]
  },
  {
   "cell_type": "code",
   "execution_count": 162,
   "metadata": {
    "ExecuteTime": {
     "end_time": "2023-04-12T09:39:06.711838Z",
     "start_time": "2023-04-12T09:39:06.696026Z"
    },
    "id": "xrmc2tRlgtcp"
   },
   "outputs": [],
   "source": [
    "def compute_gradient(image):\n",
    "    '''\n",
    "    The outputs of this function should be:\n",
    "      1. The gradient of the image in the x-direction.\n",
    "      2. The gradient of the image in the y-direction.\n",
    "      3. The gradient magnitude.\n",
    "      4. The gradient direction.\n",
    "    '''\n",
    "    \n",
    "    # The gradient of the image in the x-direction.\n",
    "    kernel_x = np.array([[1, 0, -1],[2, 0, -2], [1, 0, -1]])\n",
    "    Gx = scipy.signal.convolve2d(image, kernel_x, boundary='symm', mode='same')\n",
    "    \n",
    "    # The gradient of the image in the y-direction.\n",
    "    kernel_y = np.transpose(kernel_x)\n",
    "    Gy = scipy.signal.convolve2d(image, kernel_y, boundary='symm', mode='same')\n",
    "    \n",
    "    # The gradient magnitude.\n",
    "    im_magnitude = np.sqrt(Gx * Gx + Gy * Gy);\n",
    "    \n",
    "    # The gradient direction.\n",
    "    im_direction = np.angle(np.arctan(Gy / (Gx + 1e-20)));\n",
    "    im_direction = cv2.normalize(im_direction, None, 0, 255, cv2.NORM_MINMAX)\n",
    "#     im_direction = im_direction / 2. # Go from 0:360 to 0:180 \n",
    "#     hsv = np.zeros((image.shape[0],image.shape[1],3))\n",
    "#     hsv[..., 0] = cv2.normalize(im_direction, None, 0, 179, cv2.NORM_MINMAX)  # H (in OpenCV between 0:180)\n",
    "#     hsv[..., 1] = cv2.normalize(im_magnitude, None, 0, 255, cv2.NORM_MINMAX)\n",
    "#     _, hsv[..., 2] = cv2.threshold(im_magnitude, 255, 255, cv2.THRESH_BINARY_INV)\n",
    "#     bgr = cv2.cvtColor(hsv.astype(np.uint8), cv2.COLOR_HSV2RGB)\n",
    "    return Gx, Gy, im_magnitude, im_direction"
   ]
  },
  {
   "cell_type": "markdown",
   "metadata": {
    "id": "D7bhn7zvh6bh"
   },
   "source": [
    "#### <span style=\"color:orange;\">  Question 17 (10 pts) </span>\n",
    "Using your implemented function `compute_gradient` on image2.jpg, display the following figures:\n",
    "\n",
    "  1. The gradient of the image in the x-direction.\n",
    "\n",
    "  2. The gradient of the image in the y-direction.\n",
    "\n",
    "  3. The gradient magnitude of each pixel.\n",
    "\n",
    "  4. The gradient direction of each pixel.\n",
    "\n",
    "Discuss what kind of information every image conveys.\n",
    "\n"
   ]
  },
  {
   "cell_type": "code",
   "execution_count": 165,
   "metadata": {
    "ExecuteTime": {
     "end_time": "2023-04-12T09:40:34.134235Z",
     "start_time": "2023-04-12T09:40:34.113541Z"
    },
    "id": "PlS6M1I2FuU_"
   },
   "outputs": [
    {
     "data": {
      "image/png": "[encoded data removed]",
      "text/plain": [
       "<Figure size 1440x1440 with 5 Axes>"
      ]
     },
     "metadata": {
      "needs_background": "light"
     },
     "output_type": "display_data"
    }
   ],
   "source": [
    "img_path = './sample_data/image2.jpg'\n",
    "img = cv2.imread(img_path)\n",
    "img = cv2.cvtColor(img, cv2.COLOR_BGR2GRAY)\n",
    "Gx, Gy, im_magnitude, im_direction = compute_gradient(img)\n",
    "\n",
    "fig, (ax_orig, ax_gx, ax_gy, ax_magn, ax_dir) = plt.subplots(1, 5, figsize=(20, 20)) #figsize=(15, 15)\n",
    "ax_orig.imshow(img, cmap='gray')\n",
    "ax_orig.set_title('Original')\n",
    "ax_orig.set_axis_off()\n",
    "ax_gx.imshow(Gx, cmap='gray')\n",
    "ax_gx.set_title('Gx')\n",
    "ax_gx.set_axis_off()\n",
    "ax_gy.imshow(Gy, cmap='gray') # hsv is cyclic, like angles\n",
    "ax_gy.set_title('Gy')\n",
    "ax_gy.set_axis_off()\n",
    "ax_magn.imshow(im_magnitude, cmap='gray') # hsv is cyclic, like angles\n",
    "ax_magn.set_title('Gradient magnitude.')\n",
    "ax_magn.set_axis_off()\n",
    "ax_dir.imshow(im_direction, cmap='jet') # hsv is cyclic, like angles\n",
    "ax_dir.set_title('Gradient direction.')\n",
    "ax_dir.set_axis_off()"
   ]
  },
  {
   "cell_type": "code",
   "execution_count": 93,
   "metadata": {},
   "outputs": [
    {
     "data": {
      "text/plain": [
       "(533, 800)"
      ]
     },
     "execution_count": 93,
     "metadata": {},
     "output_type": "execute_result"
    }
   ],
   "source": [
    "_, mask = cv2.threshold(im_magnitude, 50, 255, cv2.THRESH_BINARY)\n",
    "mask.shape\n"
   ]
  },
  {
   "cell_type": "code",
   "execution_count": 96,
   "metadata": {},
   "outputs": [
    {
     "data": {
      "text/plain": [
       "255"
      ]
     },
     "execution_count": 96,
     "metadata": {},
     "output_type": "execute_result"
    }
   ],
   "source": [
    "im_direction.max()"
   ]
  },
  {
   "cell_type": "code",
   "execution_count": 112,
   "metadata": {},
   "outputs": [
    {
     "data": {
      "text/plain": [
       "array([[ 16.4924225 ,  16.97056275,  30.3644529 , ...,   0.        ,\n",
       "          0.        ,   0.        ],\n",
       "       [  5.83095189,  22.        ,  17.88854382, ...,   0.        ,\n",
       "          0.        ,   0.        ],\n",
       "       [ 11.04536102,  15.62049935,  14.76482306, ...,   0.        ,\n",
       "          0.        ,   0.        ],\n",
       "       ...,\n",
       "       [ 79.0569415 ,  86.127812  ,  85.14693183, ...,   8.60232527,\n",
       "         15.8113883 ,  17.88854382],\n",
       "       [289.08476266, 261.26232028, 157.9430277 , ...,   3.16227766,\n",
       "         17.49285568,  14.4222051 ],\n",
       "       [185.45619429, 186.98663054, 237.19190543, ...,  10.        ,\n",
       "         19.23538406,   8.94427191]])"
      ]
     },
     "execution_count": 112,
     "metadata": {},
     "output_type": "execute_result"
    }
   ],
   "source": [
    "im_magnitude"
   ]
  },
  {
   "cell_type": "markdown",
   "metadata": {
    "id": "e8Cy-LVfgjg4"
   },
   "source": [
    "In the second image Gx, the vertical edges are clearly captured. This is achieved by convolving the image with the x-filter, a filter specifically designed to capture variations in colour along the x-axis. On the other hand, the third image Gy shows changes in the y-axis thus it shows horizontal edges. In order to combine both feature images (the vertical and the horizontal edges), the magnitude is used. Higher magnitudes indicate the presence of edges. As we see this image shows well the edges that are observed in the original image(first picture). For example, the trees' area where many edges exist is white compared to the sky which is black. The last picture shows the direction in which the intensity or color of the image is changing. Values here fall into the range (0, 180), where values closer to zero show as blue and values closer to 180 as red. In the image we can see a red line at the right side of the street which indicates a intense color difference (edge). Furtheremore, in the forest we see a lot of different colors, thus different angles."
   ]
  },
  {
   "cell_type": "markdown",
   "metadata": {
    "id": "kWWN7NEzi1Ly",
    "jp-MarkdownHeadingCollapsed": true
   },
   "source": [
    "### 4.3.2 Second-order derivative filters *(10 pts)*"
   ]
  },
  {
   "cell_type": "markdown",
   "metadata": {
    "id": "-rZSE3toi6iP"
   },
   "source": [
    "Compared to the Sobel filter, a Laplacian of Gaussian (LoG) relies on the second derivative of a Gaussian filter. Hence, it will focus on large gradients in the image. A LoG can be computed by the following three methods:\n",
    "\n",
    "\n",
    "\n",
    "*   method 1: Smoothing the image with a Gaussian kernel (kernel size of 5 and standard deviation of 0.5), then taking the Laplacian of the smoothed image (i.e. second derivative).\n",
    "*   method 2: Convolving the image directly with a LoG kernel (kernel size of 5 and standard deviation of 0.5).\n",
    "\n",
    "*   method 3: Taking the Difference of two Gaussians (DoG) computed at different scales $\\sigma_1$ and $\\sigma_2$.\n",
    "\n",
    "\n",
    "\n"
   ]
  },
  {
   "cell_type": "markdown",
   "metadata": {
    "id": "jFkZWEA7EmZB"
   },
   "source": [
    "#### <span style=\"color:#F64E25;\"> Exercise 8 </span>"
   ]
  },
  {
   "cell_type": "markdown",
   "metadata": {
    "id": "k5hqL-iUEnTz"
   },
   "source": [
    "Implement `compute_LoG`\n",
    "\n",
    "The function should be able to apply any of the above mentioned methods depending on the value passed to the parameter *LOG_type*\n",
    "\n",
    "**Note:**\n",
    "You are not allowed to use the Python built-in functions for computing LOG kernels. But for doing 2D convolution, you can benefit from *scipy.signal.convolve2d* function."
   ]
  },
  {
   "cell_type": "code",
   "execution_count": null,
   "metadata": {
    "ExecuteTime": {
     "end_time": "2023-04-12T09:46:03.250412Z",
     "start_time": "2023-04-12T09:46:03.208871Z"
    },
    "id": "45qtmfFcY1hJ"
   },
   "outputs": [],
   "source": [
    "# YOUR HELPER FUNCTIONS (IF NEEDED)"
   ]
  },
  {
   "cell_type": "code",
   "execution_count": null,
   "metadata": {
    "ExecuteTime": {
     "end_time": "2023-04-12T09:46:31.009924Z",
     "start_time": "2023-04-12T09:46:30.980385Z"
    },
    "id": "7oOpjcpnFDKY"
   },
   "outputs": [],
   "source": [
    "def compute_LoG(image, LOG_type):\n",
    "\n",
    "    if LOG_type == 1:\n",
    "        # Method 1\n",
    "        # TODO: YOUR CODE HERE\n",
    "        raise NotImplementedError()\n",
    "\n",
    "    elif LOG_type == 2:\n",
    "        # Method 2\n",
    "        # TODO: YOUR CODE HERE\n",
    "        raise NotImplementedError()\n",
    "\n",
    "\n",
    "    elif LOG_type == 3:\n",
    "        # Method 3\n",
    "        # TODO: YOUR CODE HERE\n",
    "        raise NotImplementedError()\n",
    "\n",
    "    return imOut"
   ]
  },
  {
   "cell_type": "markdown",
   "metadata": {
    "id": "p5GSV9v2FMHA"
   },
   "source": [
    "#### <span style=\"color:orange;\">  Questions 18 (10 pts) </span>\n",
    "\n",
    "1.   Test your function using image2.jpg and visualize your results using the three methods (1 pts).\n",
    "\n",
    "\n",
    "\n"
   ]
  },
  {
   "cell_type": "code",
   "execution_count": null,
   "metadata": {
    "ExecuteTime": {
     "end_time": "2023-04-12T09:46:43.983160Z",
     "start_time": "2023-04-12T09:46:43.980030Z"
    },
    "id": "RWIX-1dKIea2"
   },
   "outputs": [],
   "source": [
    "img_path = './sample_data/image2.jpg'\n",
    "img = cv2.imread(img_path)\n",
    "img = cv2.cvtColor(img, cv2.COLOR_BGR2GRAY)\n",
    "imOut = compute_LoG(img)"
   ]
  },
  {
   "cell_type": "markdown",
   "metadata": {
    "id": "HnXZnTGqqnVw"
   },
   "source": [
    "*Write your answer here*"
   ]
  },
  {
   "cell_type": "markdown",
   "metadata": {
    "id": "7DF4d8ZCgPgd"
   },
   "source": [
    "\n",
    "2.   Discuss the difference between applying the three methods (3 pts).\n"
   ]
  },
  {
   "cell_type": "markdown",
   "metadata": {
    "id": "y1kbBulkgWsn"
   },
   "source": [
    "*Write your answer here*"
   ]
  },
  {
   "cell_type": "markdown",
   "metadata": {
    "id": "mDOR_Ee_gQy5"
   },
   "source": [
    "\n",
    "3.   In the first method, why is it important to convolve an image with a Gaussian before convolving with a Laplacian? (2 pts)\n",
    "\n"
   ]
  },
  {
   "cell_type": "markdown",
   "metadata": {
    "id": "Xfas5xWPgXSb"
   },
   "source": [
    "*Write your answer here*"
   ]
  },
  {
   "cell_type": "markdown",
   "metadata": {
    "id": "mONfgLCbgR-o"
   },
   "source": [
    "4.   In the third method, what is the best ratio between $\\sigma_1$ and $\\sigma_2$ to achieve the best approximation of the LoG? What is the purpose of having 2 standard deviations? (2 pts)\n",
    "\n"
   ]
  },
  {
   "cell_type": "markdown",
   "metadata": {
    "id": "IzCa85MtgYDM"
   },
   "source": [
    "*Write your answer here*"
   ]
  },
  {
   "cell_type": "markdown",
   "metadata": {
    "id": "p577tWgNgTFe"
   },
   "source": [
    "5.   What else is needed to improve the performance and isolate the road,  i.e. what else should be done? You don't have to provide any specific parameter or specific algorithm. Try to propose a direction which would be interesting to explore and how you would approach it. (2 pt)\n"
   ]
  },
  {
   "cell_type": "markdown",
   "metadata": {
    "id": "5mpHhL9BFlq4"
   },
   "source": [
    "*Write your answer here*"
   ]
  },
  {
   "cell_type": "markdown",
   "metadata": {
    "id": "5sgm7JVhFubg"
   },
   "source": [
    "## 4.4 Foreground-background separation *(25 pts)*"
   ]
  },
  {
   "cell_type": "markdown",
   "metadata": {
    "id": "ewTmbkTFHh01"
   },
   "source": [
    "Foreground-background separation is an important task in the field of computer vision (see Figure). In this exercise, you will implement a simple unsupervised algorithm that leverages the variations in texture to segment the foreground object from the background. We will assume the foreground object has a distinct combination of textures compared to background. As mentioned earlier, Gabor filters are well-suited for texture analysis thanks to their frequency domain characteristics. Therefore, we will use a collection of Gabor filters with varying scale and orientations which we call a *filter bank*. The outline of the algorithm is as follows:"
   ]
  },
  {
   "cell_type": "markdown",
   "metadata": {
    "id": "UScTstnoH8Yz"
   },
   "source": [
    "![](https://drive.google.com/uc?export=view&id=1w60xJ4UlG60Ie6ljRkHn0GJDdVu9eb5e)"
   ]
  },
  {
   "cell_type": "markdown",
   "metadata": {
    "id": "ieFPLOKTImzD"
   },
   "source": [
    "**(Left)** Input image, **(Middle)** Foreground mask, **(Right)** Masked object. Foreground-Background separation aims at masking out the salient object pixels from the background pixels."
   ]
  },
  {
   "cell_type": "markdown",
   "metadata": {
    "id": "-cggieAGXBNp"
   },
   "source": [
    "---\n",
    "\n",
    "**Algorithm 1** Foreground-Background Segmentation Algorithm\n",
    "\n",
    "---\n",
    "\n",
    "**Input:** $x$ - input image\n",
    "\n",
    "**Output:** $y$ - pixelwise labels\n",
    "\n",
    "\n",
    "\n",
    "1.   Convert to grayscale if necessary.\n",
    "\n",
    ">**if** $x$ is RGB **then**\n",
    "\n",
    ">>$x$ $\\leftarrow$ rgb2gray($x$)\n",
    "\n",
    ">**end if**\n",
    "\n",
    "2.   Create Gabor filterbank, $\\mathcal{F}_{gabor}$, with varying $\\sigma$, $\\lambda$ and $\\theta$.\n",
    "\n",
    "3.   Filter $x$ with the filterbank. Store each output in $fmaps$.\n",
    "\n",
    "4.   Compute the magnitude of the complex $fmaps$. Store the results in $fmags$.\n",
    "\n",
    ">$fmags$ $\\leftarrow$  $\\vert fmaps \\vert$\n",
    "\n",
    "5.   Smooth $fmags$.\n",
    "\n",
    ">$fmags$ $\\leftarrow$  smooth($fmags$)\n",
    "\n",
    "6.   Convert $fmags$ into data matrix, $f$.\n",
    "\n",
    ">$f$ $\\leftarrow$  reshape($fmags$)\n",
    "\n",
    "7.   Cluster $f$ using kmeans into two sets.\n",
    "\n",
    ">$y$ $\\leftarrow$  kmeans($f$, 2)\n",
    "\n",
    "---\n"
   ]
  },
  {
   "cell_type": "markdown",
   "metadata": {
    "id": "Zo-iPmhla2G9"
   },
   "source": [
    "### <span style=\"color:orange;\"> Questions 19 (25 pts) </span>\n",
    "\n",
    "1.   Run the algorithm on all test images with the provided parameter settings. What do you observe? Explain shortly. (15 pts)\n"
   ]
  },
  {
   "cell_type": "markdown",
   "metadata": {
    "id": "UwYMD8qkdx5m"
   },
   "source": [
    "*Write your answer here*"
   ]
  },
  {
   "cell_type": "markdown",
   "metadata": {
    "id": "fG0G4XmldzDB"
   },
   "source": [
    "\n",
    "2.   Experiment with different $\\lambda$, $\\sigma$ and $\\theta$ settings until you get reasonable outputs. Report what parameter settings work better for each input image and try to explain why. (4 pts)\n",
    "\n",
    "**Hint:**\n",
    "Don't change multiple variables at once. You might not need to change some at all.\n",
    "\n"
   ]
  },
  {
   "cell_type": "markdown",
   "metadata": {
    "id": "KMcXMskXdzFO"
   },
   "source": [
    "*Write your answer here*"
   ]
  },
  {
   "cell_type": "markdown",
   "metadata": {
    "id": "6NzeqBhJdzHv"
   },
   "source": [
    "3.   After you achieve good separation on all test images, run the script again with corresponding parameters but this time with\n",
    "`smoothingFlag = False`. (6 pts)\n",
    "\n",
    "Describe what you observe at the output when smoothing is not applied on the magnitude images. Explain why it happens and try to reason about the motivation behind this step."
   ]
  },
  {
   "cell_type": "markdown",
   "metadata": {
    "id": "mCyG914YcKcb"
   },
   "source": [
    "*Write your answer here*"
   ]
  },
  {
   "cell_type": "markdown",
   "metadata": {
    "id": "hiDCgYrlcL9r"
   },
   "source": [
    "### <span style=\"color:#F64E25;\"> Exercise 9</span>"
   ]
  },
  {
   "cell_type": "markdown",
   "metadata": {
    "id": "mR5GreUHcPtd"
   },
   "source": [
    "Please get yourself familiar with provided skeleton code below. Keep in mind that you will need your implementation of the **createGabor** function.\n",
    "\n",
    "When you succesfully implement it all, it should run without problems and produce a reasonable segmentation with the default parameters on **kobi.png**."
   ]
  },
  {
   "cell_type": "markdown",
   "metadata": {
    "id": "fasoFox0Y1hO"
   },
   "source": [
    "#### Utility functions"
   ]
  },
  {
   "cell_type": "code",
   "execution_count": null,
   "metadata": {
    "ExecuteTime": {
     "end_time": "2023-04-11T09:29:16.750320Z",
     "start_time": "2023-04-11T09:29:16.736299Z"
    },
    "id": "0OZdHb5pY1hO"
   },
   "outputs": [],
   "source": [
    "### Helper functions for the last exercise\n",
    "\n",
    "def load_image(image_id: str='Polar'):\n",
    "    '''\n",
    "    Loads an image, resizes image with proper resize factor and sets proper color representation\n",
    "    :param image_id: id of an image: Kobi, Polar, Robin-1, Robin-2, Cows, SciencePark\n",
    "    :return: image\n",
    "    '''\n",
    "    if image_id == 'Kobi':\n",
    "        img = cv2.imread('./sample_data/kobi.png')\n",
    "        img = cv2.cvtColor(img, cv2.COLOR_BGR2RGB)\n",
    "        resize_factor = 0.25\n",
    "    elif image_id == 'Polar':\n",
    "        img = cv2.imread('./sample_data/polar-bear-hiding.jpg')\n",
    "        img = cv2.cvtColor(img, cv2.COLOR_BGR2RGB)\n",
    "        resize_factor = 0.75\n",
    "    elif image_id == 'Robin-1':\n",
    "        img = cv2.imread('./sample_data/robin-1.jpg')\n",
    "        img = cv2.cvtColor(img, cv2.COLOR_BGR2RGB)\n",
    "        resize_factor = 1\n",
    "    elif image_id == 'Robin-2':\n",
    "        img = cv2.imread('./sample_data/robin-2.jpg')\n",
    "        img = cv2.cvtColor(img, cv2.COLOR_BGR2RGB)\n",
    "        resize_factor = 0.5\n",
    "    elif image_id == 'Cows':\n",
    "        img = cv2.imread('./sample_data/cows.jpg')\n",
    "        img = cv2.cvtColor(img, cv2.COLOR_BGR2RGB)\n",
    "        resize_factor = 0.5\n",
    "    elif image_id == 'SciencePark':\n",
    "        img = cv2.imread('./sample_data/sciencepark.jpg')\n",
    "        img = cv2.cvtColor(img, cv2.COLOR_BGR2RGB)\n",
    "        resize_factor = 0.2\n",
    "    else:\n",
    "        raise ValueError('Image not available.')\n",
    "        img = cv2.resize(img, (0, 0), fx=resize_factor, fy=resize_factor)\n",
    "        img = cv2.cvtColor(img, cv2.COLOR_RGB2GRAY)\n",
    "    return img\n",
    "\n",
    "\n",
    "def show_image(image, image_id:str= \"Polar\", cmap='gray'):\n",
    "    '''\n",
    "    Displays image in grey scale\n",
    "    :param image: image that should be displayed\n",
    "    :param image_id: id of an image: Kobi, Polar, Robin-1, Robin-2, Cows, SciencePark\n",
    "    :param cmap: matplotlib cmap arg\n",
    "    '''\n",
    "    plt.figure()\n",
    "    plt.title(image_id)\n",
    "    plt.imshow(image, cmap=cmap)\n",
    "    plt.axis(\"off\")"
   ]
  },
  {
   "cell_type": "code",
   "execution_count": null,
   "metadata": {
    "ExecuteTime": {
     "end_time": "2023-04-11T09:29:18.080502Z",
     "start_time": "2023-04-11T09:29:17.663454Z"
    },
    "id": "N3f9_GNhvqH7"
   },
   "outputs": [],
   "source": [
    "### Foreground-Background segmentation algoritm\n",
    "### Part 0 - read image and convert to grayscale\n",
    "\n",
    "image_id = \"Kobi\"\n",
    "img = load_image(image_id) # load an image with the Polar bear\n",
    "show_image(img, f'Input image: {image_id}')\n",
    "\n",
    "# TODO: YOUR CODE HERE\n",
    "# convert to gray-scale if necessary"
   ]
  },
  {
   "cell_type": "code",
   "execution_count": null,
   "metadata": {
    "ExecuteTime": {
     "end_time": "2023-04-11T09:29:46.135942Z",
     "start_time": "2023-04-11T09:29:46.089683Z"
    },
    "id": "pzJEkCwjq5Pk"
   },
   "outputs": [],
   "source": [
    "### Foreground-Background segmentation algoritm\n",
    "### Part 1 - create Gabor filterbank\n",
    "\n",
    "def filterBank(img):\n",
    "\n",
    "  # Design array of Gabor Filters\n",
    "  # In this code section, you will create a Gabor Filterbank. A filterbank is\n",
    "  # a collection of filters with varying properties (e.g. {shape, texture}).\n",
    "  # A Gabor filterbank consists of Gabor filters of distinct orientations\n",
    "  # and scales. We will use this bank to extract texture information from the\n",
    "  # input image.\n",
    "\n",
    "  numRows, numCols = img.shape\n",
    "\n",
    "  # Estimate the minimum and maximum of the wavelengths for the sinusoidal\n",
    "  # carriers.\n",
    "  # ** This step is pretty much standard, therefore, you don't have to\n",
    "  #    worry about it. It is cycles in pixels. **\n",
    "  lambdaMin = 4/np.sqrt(2)\n",
    "  lambdaMax = np.sqrt(abs(numRows)**2 + abs(numCols)**2)\n",
    "\n",
    "  # Specify the carrier wavelengths.\n",
    "  # (or the central frequency of the carrier signal, which is 1/lambda)\n",
    "  n = np.floor(np.log2(lambdaMax/lambdaMin))\n",
    "  lambdas = 2**np.arange(0, (n-2)+1) * lambdaMin\n",
    "\n",
    "  # Define the set of orientations for the Gaussian envelope.\n",
    "  dTheta       = 2 * np.pi/8                  # \\\\ the step size\n",
    "  orientations = np.arange(0, np.pi+dTheta, dTheta)\n",
    "\n",
    "  # Define the set of sigmas for the Gaussian envelope. Sigma here defines\n",
    "  # the standard deviation, or the spread of the Gaussian.\n",
    "  sigmas = np.array([1,2])\n",
    "\n",
    "  # Now you can create the filterbank. We provide you with a Python list\n",
    "  # called gaborFilterBank in which we will hold the filters and their\n",
    "  # corresponding parameters such as sigma, lambda and etc.\n",
    "  # ** All you need to do is to implement createGabor(). Rest will be handled\n",
    "  #    by the provided code block. **\n",
    "  gaborFilterBank = []\n",
    "  tic = time.time()\n",
    "  for lmbda in lambdas:\n",
    "    for sigma in sigmas:\n",
    "      for theta in orientations:\n",
    "            # Filter parameter configuration for this filter.\n",
    "            psi    = 0\n",
    "            gamma  = 0.5\n",
    "\n",
    "            # Create a Gabor filter with the specs above,\n",
    "            # using the function createGabor()\n",
    "            # and store result in gaborFilterBank\n",
    "\n",
    "            filter_config = {}\n",
    "            filter_config[\"filterPairs\"] = createGabor( sigma, theta, lmbda, psi, gamma )\n",
    "            filter_config[\"sigma\"]       = sigma\n",
    "            filter_config[\"lmbda\"]       = lmbda\n",
    "            filter_config[\"theta\"]       = theta\n",
    "            filter_config[\"psi\"]         = psi\n",
    "            filter_config[\"gamma\"]       = gamma\n",
    "            gaborFilterBank.append(filter_config)\n",
    "\n",
    "  ctime = time.time() - tic\n",
    "\n",
    "  print('--------------------------------------\\n \\t\\tDetails\\n--------------------------------------')\n",
    "  print(f'Total number of filters       : {len(gaborFilterBank)}')\n",
    "  print(f'Number of scales (sigma)      : {len(sigmas)}')\n",
    "  print(f'Number of orientations (theta): {len(orientations)}')\n",
    "  print(f'Number of carriers (lambda)   : {len(lambdas)}')\n",
    "  print(f'---------------------------------------')\n",
    "  print(f'Filter bank created in {ctime} seconds.')\n",
    "  print(f'---------------------------------------')\n",
    "  return(gaborFilterBank)\n",
    "\n",
    "# test\n",
    "gaborFilterBank = filterBank(img)"
   ]
  },
  {
   "cell_type": "code",
   "execution_count": null,
   "metadata": {
    "ExecuteTime": {
     "end_time": "2023-04-11T09:32:21.651807Z",
     "start_time": "2023-04-11T09:29:48.290075Z"
    },
    "id": "abk-us2ZiR3k"
   },
   "outputs": [],
   "source": [
    "### Foreground-Background segmentation algoritm\n",
    "### Part 2 - gabor features fMaps and fMags\n",
    "\n",
    "def gaborFeatures(img, gaborFilterBank, visFlag=False):\n",
    "\n",
    "  '''\n",
    "  Filter images using Gabor filter bank using quadrature pairs (real and imaginary parts)\n",
    "  You will now filter the input image with each complex Gabor filter in\n",
    "  gaborFilterBank structure and store the output in the cell called featureMaps.\n",
    "  Hint-1: Apply both the real imaginary parts of each kernel\n",
    "          separately in the spatial domain (i.e. over the image).\n",
    "  Hint-2: Assign each output (i.e. real and imaginary parts) in\n",
    "          variables called real_out and imag_out.\n",
    "  Hint-3: Use built-in cv2 function, filter2D, to convolve the filter\n",
    "          with the input image. Check the options for padding. Find\n",
    "          the one that works well. You might want to\n",
    "          explain what works better and why shortly in the report.\n",
    "  '''\n",
    "\n",
    "  featureMaps = []\n",
    "\n",
    "  for gaborFilter in gaborFilterBank:\n",
    "    # gaborFilter[\"filterPairs\"] has two elements. One is related to the real part\n",
    "    # of the Gabor Filter and the other one is the imagineray part.\n",
    "\n",
    "    real_out = None  # \\\\TODO: filter the grayscale input with real part of the Gabor\n",
    "    imag_out = None  # \\\\TODO: filter the grayscale input with imaginary part of the Gabor\n",
    "\n",
    "    featureMaps.append(np.stack((real_out, imag_out), 2))\n",
    "\n",
    "    # Visualize the filter responses if you wish.\n",
    "    if visFlag:\n",
    "        fig = plt.figure()\n",
    "\n",
    "        ax = fig.add_subplot(1, 2, 1)\n",
    "        ax.imshow(real_out)    # Real\n",
    "        title = \"Re[h(x,y)], \\n lambda = {0:.4f}, \\n theta = {1:.4f}, \\n sigma = {2:.4f}\".format(gaborFilter[\"lmbda\"],\n",
    "                                                                                                 gaborFilter[\"theta\"],\n",
    "                                                                                                 gaborFilter[\"sigma\"])\n",
    "        ax.set_title(title)\n",
    "        ax.axis(\"off\")\n",
    "\n",
    "        ax = fig.add_subplot(1, 2, 2)\n",
    "        ax.imshow(imag_out)    # Real\n",
    "        title = \"Im[h(x,y)], \\n lambda = {0:.4f}, \\n theta = {1:.4f}, \\n sigma = {2:.4f}\".format(gaborFilter[\"lmbda\"],\n",
    "                                                                                                 gaborFilter[\"theta\"],\n",
    "                                                                                                 gaborFilter[\"sigma\"])\n",
    "        ax.set_title(title)\n",
    "        ax.axis(\"off\")\n",
    "        plt.show()\n",
    "\n",
    "  # Compute the magnitude\n",
    "  # Now, you will compute the magnitude of the output responses.\n",
    "  # \\\\ Hint: (real_part^2 + imaginary_part^2)^(1/2) \\\\\n",
    "  featureMags = []\n",
    "  for i, fm in enumerate(featureMaps):\n",
    "    real_part = fm[...,0]\n",
    "    imag_part = fm[...,1]\n",
    "    mag = None  # \\\\TODO: Compute the magnitude here\n",
    "    featureMags.append(mag)\n",
    "\n",
    "    # Visualize the magnitude response if you wish.\n",
    "    if visFlag:\n",
    "        fig = plt.figure()\n",
    "        ax = fig.add_subplot(1, 1, 1)\n",
    "        ax.imshow(mag.astype(np.uint8))    # visualize magnitude\n",
    "        title = \"Re[h(x,y)], \\n lambda = {0:.4f}, \\n theta = {1:.4f}, \\n sigma = {2:.4f}\".format(gaborFilterBank[i][\"lmbda\"],\n",
    "                                                                                                 gaborFilterBank[i][\"theta\"],\n",
    "                                                                                                 gaborFilterBank[i][\"sigma\"])\n",
    "        ax.set_title(title)\n",
    "        ax.axis(\"off\")\n",
    "\n",
    "  print('Created', len(featureMags), 'features for each pixel')\n",
    "  return featureMags\n",
    "\n",
    "# test\n",
    "featureMags = gaborFeatures(img, gaborFilterBank)"
   ]
  },
  {
   "cell_type": "code",
   "execution_count": null,
   "metadata": {
    "ExecuteTime": {
     "end_time": "2023-04-11T09:33:16.383593Z",
     "start_time": "2023-04-11T09:32:50.995612Z"
    },
    "id": "8j2bUnRmI7Xz"
   },
   "outputs": [],
   "source": [
    "### Foreground-Background segmentation algoritm\n",
    "### Part 3 - cluster features in two sets\n",
    "\n",
    "def clusterFeatures(img, featureMags, smoothingFlag=True):\n",
    "\n",
    "  '''\n",
    "  Prepare and Preprocess features\n",
    "  You can think of each filter response as a sort of feature representation\n",
    "  for the pixels. Now that you have numFilters = |gaborFilterBank| filters,\n",
    "  we can represent each pixel by this many features.\n",
    "  Question: What kind of features do you think gabor filters might correspond to?\n",
    "\n",
    "  You will now implement a smoothing operation over the magnitude images in\n",
    "  featureMags.\n",
    "  Hint-1: For each i in [1, length(featureMags)], smooth featureMags{i} using an appropriate first order Gaussian kernel.\n",
    "  Hint-2: cv2 filter2D function is helpful here.\n",
    "  '''\n",
    "\n",
    "  numRows, numCols = img.shape\n",
    "  features = np.zeros(shape=(numRows, numCols, len(featureMags)))\n",
    "\n",
    "  if smoothingFlag:\n",
    "    # \\\\TODO:\n",
    "    # FOR_LOOP\n",
    "        # i)  filter the magnitude response with appropriate Gaussian kernels\n",
    "        # ii) insert the smoothed image into features[:,:,j]\n",
    "    # END_FOR\n",
    "  else:\n",
    "    # Don't smooth but just insert magnitude images into the matrix called features.\n",
    "    for i, fmag in enumerate(featureMags):\n",
    "        features[:,:,i] = fmag\n",
    "        if i//5==0:\n",
    "          print(i)\n",
    "\n",
    "  '''\n",
    "  Reshape the filter outputs (i.e. tensor called features) of size\n",
    "  [numRows, numCols, numFilters] into a matrix of size [numRows*numCols, numFilters]\n",
    "  This will constitute our data matrix which represents each pixel in the\n",
    "  input image with numFilters features.\n",
    "  '''\n",
    "\n",
    "  features = np.reshape(features, newshape=(numRows * numCols, -1))\n",
    "\n",
    "  '''\n",
    "  Standardize features.\n",
    "  Hint: see https://www.analyticsvidhya.com/blog/2020/04/feature-scaling-machine-learning-normalization-standardization/\n",
    "  '''\n",
    "\n",
    "  # features = None  # \\\\ TODO: i)  Implement standardization on matrix called features.\n",
    "                     #          ii) Return the standardized data matrix.\n",
    "\n",
    "  '''\n",
    "  (Optional) Visualize the saliency map using the first principal component\n",
    "  of the features matrix. It will be useful to diagnose possible problems\n",
    "  with the pipeline and filterbank.\n",
    "  '''\n",
    "\n",
    "  transformed_feature = PCA(n_components=1).fit_transform(features) # select the first component\n",
    "  transformed_feature = np.ascontiguousarray(transformed_feature, dtype=np.float32)\n",
    "  feature2DImage = np.reshape(transformed_feature,newshape=(numRows,numCols))\n",
    "  plt.figure()\n",
    "  plt.title(f'Pixel representation projected onto first PC')\n",
    "  plt.imshow(feature2DImage, cmap='gray')\n",
    "  plt.axis(\"off\")\n",
    "  plt.show()\n",
    "\n",
    "  '''\n",
    "  Apply k-means algorithm to cluster pixels using the data matrix features.\n",
    "  Hint-1: search about sklearn kmeans function https://scikit-learn.org/stable/modules/generated/sklearn.cluster.KMeans.html.\n",
    "  Hint-2: when calling sklearn's kmeans function, use the parameter n_clusters as defined in the aloritm description above.\n",
    "  '''\n",
    "\n",
    "  tic = time.time()\n",
    "  pixLabels = None  # \\\\TODO: Return cluster labels per pixel\n",
    "\n",
    "  ctime = time.time() - tic\n",
    "  print(f'Clustering completed in {ctime} seconds.')\n",
    "\n",
    "  return pixLabels\n",
    "\n",
    "# run\n",
    "pixLabels = clusterFeatures(img, featureMags)"
   ]
  },
  {
   "cell_type": "code",
   "execution_count": null,
   "metadata": {
    "ExecuteTime": {
     "end_time": "2023-04-11T09:33:43.713776Z",
     "start_time": "2023-04-11T09:33:43.368029Z"
    },
    "id": "erCuS2DngeR3"
   },
   "outputs": [],
   "source": [
    "### Foreground-Background segmentation algoritm\n",
    "### Part 4 - Visualise result\n",
    "\n",
    "# Visualize the clustering by reshaping pixLabels into original grayscale\n",
    "# input size [numRows numCols].\n",
    "numRows, numCols = img.shape\n",
    "pixLabels = np.reshape(pixLabels, newshape=(numRows, numCols))\n",
    "plt.figure()\n",
    "plt.title(f'Pixel clusters')\n",
    "plt.imshow(pixLabels)\n",
    "plt.axis(\"off\")\n",
    "plt.show()\n",
    "\n",
    "# Use the pixLabels to visualize segmentation.\n",
    "Aseg1 = np.zeros_like(img)\n",
    "Aseg2 = np.zeros_like(img)\n",
    "BW = pixLabels == 1  # check for the value of your labels in pixLabels (could be 1 or 0 instead of 2)\n",
    "# BW = np.repeat(BW[:, :, np.newaxis], 3, axis=2) # do this only if you have 3 channels in the img\n",
    "Aseg1[BW] = img[BW]\n",
    "Aseg2[~BW] = img[~BW]\n",
    "\n",
    "plt.figure()\n",
    "plt.title(f'montage')\n",
    "plt.imshow(Aseg1, 'gray', interpolation='none')\n",
    "plt.imshow(Aseg2, 'jet',  interpolation='none', alpha=0.7)\n",
    "plt.axis(\"off\")\n",
    "plt.show()"
   ]
  },
  {
   "cell_type": "markdown",
   "metadata": {
    "id": "WyhvarY6S8on",
    "jp-MarkdownHeadingCollapsed": true
   },
   "source": [
    "# X Individual Contribution Report *(Mandatory)*"
   ]
  },
  {
   "cell_type": "markdown",
   "metadata": {
    "id": "kpOsOzF0S_vd"
   },
   "source": [
    "Because we want each student to contribute fairly to the submitted work, we ask you to fill out the textcells below. Write down your contribution to each of the assignment components in percentages. Naturally, percentages for one particular component should add up to 100% (e.g. 30% - 30% - 40%). No further explanation has to be given.\n"
   ]
  },
  {
   "cell_type": "markdown",
   "metadata": {
    "id": "llFy3fLSTLrx"
   },
   "source": [
    "Name:\n",
    "\n",
    "Contribution on research: \\\\\n",
    "Contribution on programming: \\\\\n",
    "Contribution on writing: \\\\"
   ]
  },
  {
   "cell_type": "markdown",
   "metadata": {
    "id": "Jx-TE1JbTMUz"
   },
   "source": [
    "Name:\n",
    "\n",
    "Contribution on research: \\\\\n",
    "Contribution on programming: \\\\\n",
    "Contribution on writing: \\\\"
   ]
  },
  {
   "cell_type": "markdown",
   "metadata": {
    "id": "NnR_Y-VKTNWi"
   },
   "source": [
    "Name:\n",
    "\n",
    "Contribution on research: \\\\\n",
    "Contribution on programming: \\\\\n",
    "Contribution on writing: \\\\"
   ]
  },
  {
   "cell_type": "markdown",
   "metadata": {
    "id": "yxMRqPmWuzYD"
   },
   "source": [
    "Name:\n",
    "\n",
    "Contribution on research: \\\\\n",
    "Contribution on programming: \\\\\n",
    "Contribution on writing: \\\\"
   ]
  },
  {
   "cell_type": "markdown",
   "metadata": {
    "id": "WP-YDUPDTUOd"
   },
   "source": [
    "# -End of Notebook-"
   ]
  }
 ],
 "metadata": {
  "colab": {
   "collapsed_sections": [
    "UMW9vG1dBifa",
    "OIIOhzlprt6C",
    "fk8dblKYr2z4",
    "7mZ_fs1wWRl8",
    "ZOzkr4we4pyV",
    "_NhWPur7P1_Q",
    "1oBHyce1saAI",
    "RkT7BklaTUmj",
    "762bvpRYTual",
    "pwN5FCrq4pyY",
    "0q2vI0YR4pyZ",
    "ViVNlHPOa2Jd",
    "eMgRkSaSa-7u",
    "OtMu-uUgbIHi",
    "H1mP6EytbZE2",
    "WIpIVPE4tvE9",
    "32eQTHQobdGG",
    "xXyH4WNDJtSK",
    "1gZn2TPQKtA8",
    "CcgoNmEWK7Zk",
    "a8rYWOruVbNB",
    "g4WNOpLWVlnA",
    "4YS86lVJbNQh",
    "7-pj7HA9aqAq",
    "ELQH1DgffAfX",
    "jpC_NGfufN3R",
    "kWWN7NEzi1Ly",
    "5sgm7JVhFubg"
   ],
   "provenance": []
  },
  "kernelspec": {
   "display_name": "Python 3",
   "language": "python",
   "name": "python3"
  },
  "language_info": {
   "codemirror_mode": {
    "name": "ipython",
    "version": 3
   },
   "file_extension": ".py",
   "mimetype": "text/x-python",
   "name": "python",
   "nbconvert_exporter": "python",
   "pygments_lexer": "ipython3",
   "version": "3.6.15"
  },
  "toc": {
   "base_numbering": 1,
   "nav_menu": {},
   "number_sections": true,
   "sideBar": true,
   "skip_h1_title": false,
   "title_cell": "Table of Contents",
   "title_sidebar": "Contents",
   "toc_cell": false,
   "toc_position": {},
   "toc_section_display": true,
   "toc_window_display": false
  },
  "varInspector": {
   "cols": {
    "lenName": 16,
    "lenType": 16,
    "lenVar": 40
   },
   "kernels_config": {
    "python": {
     "delete_cmd_postfix": "",
     "delete_cmd_prefix": "del ",
     "library": "var_list.py",
     "varRefreshCmd": "print(var_dic_list())"
    },
    "r": {
     "delete_cmd_postfix": ") ",
     "delete_cmd_prefix": "rm(",
     "library": "var_list.r",
     "varRefreshCmd": "cat(var_dic_list()) "
    }
   },
   "types_to_exclude": [
    "module",
    "function",
    "builtin_function_or_method",
    "instance",
    "_Feature"
   ],
   "window_display": false
  }
 },
 "nbformat": 4,
 "nbformat_minor": 4
}
